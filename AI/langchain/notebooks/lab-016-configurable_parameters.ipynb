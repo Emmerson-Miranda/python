{
 "cells": [
  {
   "cell_type": "code",
   "execution_count": 51,
   "id": "bc308ee9-99c8-4767-a46f-56428885154c",
   "metadata": {},
   "outputs": [],
   "source": [
    "from langchain_openai import ChatOpenAI\n",
    "from langchain.prompts import PromptTemplate\n",
    "from langchain_core.runnables import ConfigurableField"
   ]
  },
  {
   "cell_type": "code",
   "execution_count": 52,
   "id": "cebb2e59-8acd-4b29-b2d2-8dbff1ef80d2",
   "metadata": {},
   "outputs": [],
   "source": [
    "#import os\n",
    "#os.environ[\"OPENAI_API_KEY\"]=\"YOUR_OPENAI_API_KEY\""
   ]
  },
  {
   "cell_type": "code",
   "execution_count": 53,
   "id": "08ddfc92",
   "metadata": {},
   "outputs": [],
   "source": [
    "llm = ChatOpenAI(model=\"gpt-3.5-turbo\").configurable_fields(\n",
    "    model_name=ConfigurableField(\n",
    "        id=\"model_name\",\n",
    "        name=\"LLM Model\",\n",
    "        description=\"The model of the LLM\",\n",
    "    )\n",
    ")"
   ]
  },
  {
   "cell_type": "code",
   "execution_count": 54,
   "id": "d708f544",
   "metadata": {},
   "outputs": [],
   "source": [
    "prompt = PromptTemplate.from_template(\"Give me a short description for a book about {topic}\")"
   ]
  },
  {
   "cell_type": "code",
   "execution_count": 55,
   "id": "43851309",
   "metadata": {},
   "outputs": [],
   "source": [
    "chain = prompt | llm \n"
   ]
  },
  {
   "cell_type": "code",
   "execution_count": 56,
   "id": "9c14c81d",
   "metadata": {},
   "outputs": [
    {
     "name": "stdout",
     "output_type": "stream",
     "text": [
      "\"In this captivating exploration of the world's diverse landscapes and cultures, readers will journey through the intricate web of rivers, mountains, and cities that shape our planet, gaining a deeper understanding of the connections between people and their environments.\"\n"
     ]
    }
   ],
   "source": [
    "output = chain.invoke({\"topic\": \"geography\"})\n",
    "\n",
    "print(output.content)"
   ]
  },
  {
   "cell_type": "code",
   "execution_count": 57,
   "id": "3e588268",
   "metadata": {},
   "outputs": [
    {
     "data": {
      "text/plain": [
       "AIMessage(content='\"In this captivating exploration of the world\\'s diverse landscapes and cultures, readers will journey through the intricate web of rivers, mountains, and cities that shape our planet, gaining a deeper understanding of the connections between people and their environments.\"', additional_kwargs={'refusal': None}, response_metadata={'token_usage': {'completion_tokens': 45, 'prompt_tokens': 17, 'total_tokens': 62, 'completion_tokens_details': {'accepted_prediction_tokens': 0, 'audio_tokens': 0, 'reasoning_tokens': 0, 'rejected_prediction_tokens': 0}, 'prompt_tokens_details': {'audio_tokens': 0, 'cached_tokens': 0}}, 'model_name': 'gpt-3.5-turbo-0125', 'system_fingerprint': None, 'id': 'chatcmpl-CBUeySwQpeTlCr3EpEsxkmTyW8TF4', 'service_tier': 'default', 'finish_reason': 'stop', 'logprobs': None}, id='run--6e97245d-9f08-4d93-b4cc-7b7238312d2b-0', usage_metadata={'input_tokens': 17, 'output_tokens': 45, 'total_tokens': 62, 'input_token_details': {'audio': 0, 'cache_read': 0}, 'output_token_details': {'audio': 0, 'reasoning': 0}})"
      ]
     },
     "execution_count": 57,
     "metadata": {},
     "output_type": "execute_result"
    }
   ],
   "source": [
    "output"
   ]
  },
  {
   "cell_type": "code",
   "execution_count": 58,
   "id": "85fae643",
   "metadata": {},
   "outputs": [
    {
     "name": "stdout",
     "output_type": "stream",
     "text": [
      "\"Exploring the Globe: A Journey through Geography\" offers a comprehensive insight into the unique forming factors of our planet. From physical landforms to climatic variations, cultural diversity to socio-economic aspects, this book intricately weaves together every aspect of geography. Get ready to traverse through continents, understand borders, explore the natural wonders, and learn about the fascinating complexities of our Earth. Specially curated for both geography enthusiasts and curious minds, this enlightening guide will take everyone on a virtual tour around the world, right from the comfort of their homes.\n"
     ]
    }
   ],
   "source": [
    "output2 = chain.with_config({\"model_name\":\"gpt-4\"}).invoke({\"topic\": \"geography\"})\n",
    "\n",
    "print(output2.content)"
   ]
  },
  {
   "cell_type": "code",
   "execution_count": 60,
   "id": "6e5205a3",
   "metadata": {},
   "outputs": [
    {
     "data": {
      "text/plain": [
       "AIMessage(content='\"Exploring the Globe: A Journey through Geography\" offers a comprehensive insight into the unique forming factors of our planet. From physical landforms to climatic variations, cultural diversity to socio-economic aspects, this book intricately weaves together every aspect of geography. Get ready to traverse through continents, understand borders, explore the natural wonders, and learn about the fascinating complexities of our Earth. Specially curated for both geography enthusiasts and curious minds, this enlightening guide will take everyone on a virtual tour around the world, right from the comfort of their homes.', additional_kwargs={'refusal': None}, response_metadata={'token_usage': {'completion_tokens': 111, 'prompt_tokens': 17, 'total_tokens': 128, 'completion_tokens_details': {'accepted_prediction_tokens': 0, 'audio_tokens': 0, 'reasoning_tokens': 0, 'rejected_prediction_tokens': 0}, 'prompt_tokens_details': {'audio_tokens': 0, 'cached_tokens': 0}}, 'model_name': 'gpt-4-0613', 'system_fingerprint': None, 'id': 'chatcmpl-CBUez8mET8gqVZhnmhPGXL6SA3Ko9', 'service_tier': 'default', 'finish_reason': 'stop', 'logprobs': None}, id='run--c17c0e5b-c0db-48c9-bcb0-6a6d32e41a4c-0', usage_metadata={'input_tokens': 17, 'output_tokens': 111, 'total_tokens': 128, 'input_token_details': {'audio': 0, 'cache_read': 0}, 'output_token_details': {'audio': 0, 'reasoning': 0}})"
      ]
     },
     "execution_count": 60,
     "metadata": {},
     "output_type": "execute_result"
    }
   ],
   "source": [
    "output2"
   ]
  }
 ],
 "metadata": {
  "kernelspec": {
   "display_name": "venv",
   "language": "python",
   "name": "python3"
  },
  "language_info": {
   "codemirror_mode": {
    "name": "ipython",
    "version": 3
   },
   "file_extension": ".py",
   "mimetype": "text/x-python",
   "name": "python",
   "nbconvert_exporter": "python",
   "pygments_lexer": "ipython3",
   "version": "3.12.2"
  }
 },
 "nbformat": 4,
 "nbformat_minor": 5
}
