{
 "cells": [
  {
   "cell_type": "code",
   "execution_count": null,
   "id": "2f211c49",
   "metadata": {},
   "outputs": [],
   "source": [
    "# REPL stands for Read, Evaluate, Print, Loop. \n",
    "# The REPL is how you interact with the Python Interpreter. \n",
    "# Unlike running a file containing Python code, in the REPL you can type commands \n",
    "# and instantly see the output printed out.\n",
    "\n",
    "# https://python.langchain.com/api_reference/langchain/agents/langchain.agents.tool_calling_agent.base.create_tool_calling_agent.html#create-tool-calling-agent\n",
    "# Agent with memory https://python.langchain.com/docs/how_to/agent_executor/\n",
    "# Based on https://notes.kodekloud.com/docs/LangChain/Building-Agents/Adding-Pyton-REPL-to-Tool\n",
    "from langchain_core.prompts.chat import ChatPromptTemplate\n",
    "\n",
    "from langchain_openai import ChatOpenAI\n",
    "from langchain_experimental.tools import PythonREPLTool\n",
    "\n",
    "\n",
    "from langchain.agents import create_tool_calling_agent\n",
    "from langchain.agents import AgentExecutor\n"
   ]
  },
  {
   "cell_type": "code",
   "execution_count": 65,
   "id": "a235d546",
   "metadata": {},
   "outputs": [
    {
     "data": {
      "text/plain": [
       "StructuredTool(name='countries_independence_day', description=\"Gets countries's independence day.\", args_schema=<class 'langchain_core.utils.pydantic.countries_independence_day'>, func=<function countries_independence_day at 0x11ba8b1a0>)"
      ]
     },
     "execution_count": 65,
     "metadata": {},
     "output_type": "execute_result"
    }
   ],
   "source": [
    "from langchain.agents import tool\n",
    "\n",
    "# Tool to get flight statuss\n",
    "@tool\n",
    "def countries_independence_day(region: str) -> str:\n",
    "    \"\"\"Gets countries's independence day.\"\"\"\n",
    "    return (\n",
    "        f\"The countries date of independence of {region} in markdown format are as follows: \\n\"\n",
    "        \"| Country      | Independence Date | Notes |\\n\"\n",
    "        \"|--------------|-------------------|-------|\\n\"\n",
    "        \"| **Paraguay** | 14/05/1811 | From Spain |\\n\"\n",
    "        \"| **Venezuela** | 05/07/1811 | First declaration; definitive independence in 1821 |\\n\"\n",
    "        \"| **Argentina** | 09/07/1816 | From Spain |\\n\"\n",
    "        \"| **Chile** | 12/02/1818 | From Spain |\\n\"\n",
    "        \"| **Colombia** | 20/07/1810 | Declaration from Spain (consolidated 07/08/1819) |\\n\"\n",
    "        \"| **Ecuador** | 24/05/1822 | From Spain (Battle of Pichincha) |\\n\"\n",
    "        \"| **Peru** | 28/07/1821 | Proclamation by San Martín; final victory 09/12/1824 |\\n\"\n",
    "        \"| **Bolivia** | 06/08/1825 | From Spain |\\n\"\n",
    "        \"| **Uruguay** | 25/08/1825 | From Brazil; recognized 27/08/1828 |\\n\"\n",
    "        \"| **Brazil** | 07/09/1822 | From Portugal |\\n\"\n",
    "        \"| **Guyana** | 26/05/1966 | From the United Kingdom |\\n\"\n",
    "        \"| **Suriname** | 25/11/1975 | From the Netherlands |\\n\"\n",
    "    )\n",
    "countries_independence_day"
   ]
  },
  {
   "cell_type": "code",
   "execution_count": 69,
   "id": "a5ac368a",
   "metadata": {},
   "outputs": [],
   "source": [
    "# Initialize chat model, prompt and output parser\n",
    "from langchain.prompts import MessagesPlaceholder\n",
    "prompt = ChatPromptTemplate.from_messages([\n",
    "    (\"system\", \"You are a helpful assistant. Think step by step before responding.\"),\n",
    "    MessagesPlaceholder(variable_name=\"chat_history\"),\n",
    "    (\"human\", \"{input}\"),\n",
    "    (\"placeholder\", \"{agent_scratchpad}\")\n",
    "])"
   ]
  },
  {
   "cell_type": "code",
   "execution_count": 70,
   "id": "73dc6ad5",
   "metadata": {},
   "outputs": [],
   "source": [
    "from langchain_community.chat_message_histories import ChatMessageHistory\n",
    "from langchain_core.chat_history import BaseChatMessageHistory\n",
    "from langchain_core.runnables.history import RunnableWithMessageHistory\n",
    "\n",
    "store = {}\n",
    "\n",
    "\n",
    "def get_session_history(session_id: str) -> BaseChatMessageHistory:\n",
    "    if session_id not in store:\n",
    "        store[session_id] = ChatMessageHistory()\n",
    "    return store[session_id]"
   ]
  },
  {
   "cell_type": "code",
   "execution_count": 71,
   "id": "e30e2d0a",
   "metadata": {},
   "outputs": [],
   "source": [
    "\n",
    "python_repl = PythonREPLTool()\n",
    "\n",
    "llm = ChatOpenAI(verbose=True, temperature=0)\n",
    "tools = [countries_independence_day, python_repl]\n",
    "\n",
    "agent = create_tool_calling_agent(llm, tools, prompt)\n",
    "agent_executor = AgentExecutor(agent=agent, tools=tools, verbose=True)"
   ]
  },
  {
   "cell_type": "code",
   "execution_count": 72,
   "id": "ba7f96a8",
   "metadata": {},
   "outputs": [],
   "source": [
    "agent_with_chat_history = RunnableWithMessageHistory(\n",
    "    agent_executor,\n",
    "    get_session_history,\n",
    "    input_messages_key=\"input\",\n",
    "    history_messages_key=\"chat_history\",\n",
    ")"
   ]
  },
  {
   "cell_type": "code",
   "execution_count": 74,
   "id": "3e49aa0c",
   "metadata": {},
   "outputs": [
    {
     "name": "stdout",
     "output_type": "stream",
     "text": [
      "\n",
      "\n",
      "\u001b[1m> Entering new AgentExecutor chain...\u001b[0m\n",
      "\u001b[32;1m\u001b[1;3m\n",
      "Invoking: `countries_independence_day` with `{'region': 'South America'}`\n",
      "\n",
      "\n",
      "\u001b[0m\u001b[36;1m\u001b[1;3mThe countries date of independence of South America in markdown format are as follows: \n",
      "| Country      | Independence Date | Notes |\n",
      "|--------------|-------------------|-------|\n",
      "| **Paraguay** | 14/05/1811 | From Spain |\n",
      "| **Venezuela** | 05/07/1811 | First declaration; definitive independence in 1821 |\n",
      "| **Argentina** | 09/07/1816 | From Spain |\n",
      "| **Chile** | 12/02/1818 | From Spain |\n",
      "| **Colombia** | 20/07/1810 | Declaration from Spain (consolidated 07/08/1819) |\n",
      "| **Ecuador** | 24/05/1822 | From Spain (Battle of Pichincha) |\n",
      "| **Peru** | 28/07/1821 | Proclamation by San Martín; final victory 09/12/1824 |\n",
      "| **Bolivia** | 06/08/1825 | From Spain |\n",
      "| **Uruguay** | 25/08/1825 | From Brazil; recognized 27/08/1828 |\n",
      "| **Brazil** | 07/09/1822 | From Portugal |\n",
      "| **Guyana** | 26/05/1966 | From the United Kingdom |\n",
      "| **Suriname** | 25/11/1975 | From the Netherlands |\n",
      "\u001b[0m\u001b[32;1m\u001b[1;3mThe countries in South America that became independent after 1900 are Guyana and Suriname. Guyana gained independence from the United Kingdom on 26/05/1966, and Suriname gained independence from the Netherlands on 25/11/1975.\u001b[0m\n",
      "\n",
      "\u001b[1m> Finished chain.\u001b[0m\n",
      "The countries in South America that became independent after 1900 are Guyana and Suriname. Guyana gained independence from the United Kingdom on 26/05/1966, and Suriname gained independence from the Netherlands on 25/11/1975.\n"
     ]
    }
   ],
   "source": [
    "response = agent_with_chat_history.invoke(\n",
    "    {\n",
    "        \"input\": \"Give the countries of South America that became independent after 1900.\",\n",
    "     },\n",
    "    config={\"configurable\": {\"session_id\": \"mysession\"}}\n",
    ")\n",
    "print(response[\"output\"])"
   ]
  },
  {
   "cell_type": "code",
   "execution_count": 75,
   "id": "0cdb64ff",
   "metadata": {},
   "outputs": [
    {
     "name": "stdout",
     "output_type": "stream",
     "text": [
      "\n",
      "\n",
      "\u001b[1m> Entering new AgentExecutor chain...\u001b[0m\n",
      "\u001b[32;1m\u001b[1;3m\n",
      "Invoking: `countries_independence_day` with `{'region': 'Guyana'}`\n",
      "\n",
      "\n",
      "\u001b[0m\u001b[36;1m\u001b[1;3mThe countries date of independence of Guyana in markdown format are as follows: \n",
      "| Country      | Independence Date | Notes |\n",
      "|--------------|-------------------|-------|\n",
      "| **Paraguay** | 14/05/1811 | From Spain |\n",
      "| **Venezuela** | 05/07/1811 | First declaration; definitive independence in 1821 |\n",
      "| **Argentina** | 09/07/1816 | From Spain |\n",
      "| **Chile** | 12/02/1818 | From Spain |\n",
      "| **Colombia** | 20/07/1810 | Declaration from Spain (consolidated 07/08/1819) |\n",
      "| **Ecuador** | 24/05/1822 | From Spain (Battle of Pichincha) |\n",
      "| **Peru** | 28/07/1821 | Proclamation by San Martín; final victory 09/12/1824 |\n",
      "| **Bolivia** | 06/08/1825 | From Spain |\n",
      "| **Uruguay** | 25/08/1825 | From Brazil; recognized 27/08/1828 |\n",
      "| **Brazil** | 07/09/1822 | From Portugal |\n",
      "| **Guyana** | 26/05/1966 | From the United Kingdom |\n",
      "| **Suriname** | 25/11/1975 | From the Netherlands |\n",
      "\u001b[0m\u001b[32;1m\u001b[1;3m\n",
      "Invoking: `countries_independence_day` with `{'region': 'Suriname'}`\n",
      "\n",
      "\n",
      "\u001b[0m\u001b[36;1m\u001b[1;3mThe countries date of independence of Suriname in markdown format are as follows: \n",
      "| Country      | Independence Date | Notes |\n",
      "|--------------|-------------------|-------|\n",
      "| **Paraguay** | 14/05/1811 | From Spain |\n",
      "| **Venezuela** | 05/07/1811 | First declaration; definitive independence in 1821 |\n",
      "| **Argentina** | 09/07/1816 | From Spain |\n",
      "| **Chile** | 12/02/1818 | From Spain |\n",
      "| **Colombia** | 20/07/1810 | Declaration from Spain (consolidated 07/08/1819) |\n",
      "| **Ecuador** | 24/05/1822 | From Spain (Battle of Pichincha) |\n",
      "| **Peru** | 28/07/1821 | Proclamation by San Martín; final victory 09/12/1824 |\n",
      "| **Bolivia** | 06/08/1825 | From Spain |\n",
      "| **Uruguay** | 25/08/1825 | From Brazil; recognized 27/08/1828 |\n",
      "| **Brazil** | 07/09/1822 | From Portugal |\n",
      "| **Guyana** | 26/05/1966 | From the United Kingdom |\n",
      "| **Suriname** | 25/11/1975 | From the Netherlands |\n",
      "\u001b[0m"
     ]
    },
    {
     "name": "stderr",
     "output_type": "stream",
     "text": [
      "Python REPL can execute arbitrary code. Use with caution.\n"
     ]
    },
    {
     "name": "stdout",
     "output_type": "stream",
     "text": [
      "\u001b[32;1m\u001b[1;3m\n",
      "Invoking: `Python_REPL` with `{'query': \"from datetime import datetime\\n\\ndate1 = datetime.strptime('26/05/1966', '%d/%m/%Y')\\ndate2 = datetime.strptime('25/11/1975', '%d/%m/%Y')\\n\\ndays_difference = (date2 - date1).days\\nprint(days_difference)\"}`\n",
      "responded: The independence day of Guyana is 26/05/1966, and the independence day of Suriname is 25/11/1975. Let's calculate the difference in days between these two dates.\n",
      "\n",
      "\u001b[0m\u001b[33;1m\u001b[1;3m3470\n",
      "\u001b[0m"
     ]
    },
    {
     "name": "stderr",
     "output_type": "stream",
     "text": [
      "0.00s - Debugger warning: It seems that frozen modules are being used, which may\n",
      "0.00s - make the debugger miss breakpoints. Please pass -Xfrozen_modules=off\n",
      "0.00s - to python to disable frozen modules.\n",
      "0.00s - Note: Debugging will proceed. Set PYDEVD_DISABLE_FILE_VALIDATION=1 to disable this validation.\n"
     ]
    },
    {
     "name": "stdout",
     "output_type": "stream",
     "text": [
      "\u001b[32;1m\u001b[1;3mThe difference in days between the independence days of Guyana and Suriname is 3,470 days.\u001b[0m\n",
      "\n",
      "\u001b[1m> Finished chain.\u001b[0m\n",
      "The difference in days between the independence days of Guyana and Suriname is 3,470 days.\n"
     ]
    }
   ],
   "source": [
    "response = agent_with_chat_history.invoke(\n",
    "    {\n",
    "        \"input\": \"calculate the difference in days between them\",\n",
    "     },\n",
    "    config={\"configurable\": {\"session_id\": \"mysession\"}}\n",
    ")\n",
    "print(response[\"output\"])"
   ]
  }
 ],
 "metadata": {
  "kernelspec": {
   "display_name": "venv",
   "language": "python",
   "name": "python3"
  },
  "language_info": {
   "codemirror_mode": {
    "name": "ipython",
    "version": 3
   },
   "file_extension": ".py",
   "mimetype": "text/x-python",
   "name": "python",
   "nbconvert_exporter": "python",
   "pygments_lexer": "ipython3",
   "version": "3.12.2"
  }
 },
 "nbformat": 4,
 "nbformat_minor": 5
}
