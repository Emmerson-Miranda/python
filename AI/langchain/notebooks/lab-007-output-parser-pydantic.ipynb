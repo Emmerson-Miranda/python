{
 "cells": [
  {
   "cell_type": "code",
   "execution_count": 45,
   "id": "bc308ee9-99c8-4767-a46f-56428885154c",
   "metadata": {},
   "outputs": [],
   "source": [
    "from langchain_openai import OpenAI\n",
    "from langchain.prompts import PromptTemplate\n",
    "from langchain.output_parsers import PydanticOutputParser\n",
    "from pydantic import BaseModel, Field\n",
    "import pprint"
   ]
  },
  {
   "cell_type": "code",
   "execution_count": 46,
   "id": "cebb2e59-8acd-4b29-b2d2-8dbff1ef80d2",
   "metadata": {},
   "outputs": [],
   "source": [
    "#import os\n",
    "#os.environ[\"OPENAI_API_KEY\"]=\"YOUR_OPENAI_API_KEY\""
   ]
  },
  {
   "cell_type": "code",
   "execution_count": 47,
   "id": "29a5aee4",
   "metadata": {},
   "outputs": [],
   "source": [
    "class CountryInfo(BaseModel):\n",
    "    country: str = Field(..., description=\"The name of the country\")\n",
    "    capital: str = Field(..., description=\"The capital city of the country\")"
   ]
  },
  {
   "cell_type": "code",
   "execution_count": 48,
   "id": "d662cb8b",
   "metadata": {},
   "outputs": [
    {
     "data": {
      "text/plain": [
       "PydanticOutputParser(pydantic_object=<class '__main__.CountryInfo'>)"
      ]
     },
     "execution_count": 48,
     "metadata": {},
     "output_type": "execute_result"
    }
   ],
   "source": [
    "output_parser = PydanticOutputParser(pydantic_object=CountryInfo)\n",
    "output_parser"
   ]
  },
  {
   "cell_type": "code",
   "execution_count": 59,
   "id": "cf55af2f",
   "metadata": {},
   "outputs": [],
   "source": [
    "text_template = \"\"\"\n",
    "Give me only one country that speak {language} and its capitals.\n",
    "Format instructions: \n",
    "{format_instructions}\n",
    "\"\"\"\n"
   ]
  },
  {
   "cell_type": "code",
   "execution_count": 60,
   "id": "44ceedf2",
   "metadata": {},
   "outputs": [
    {
     "data": {
      "text/plain": [
       "PromptTemplate(input_variables=['language'], input_types={}, partial_variables={'format_instructions': 'The output should be formatted as a JSON instance that conforms to the JSON schema below.\\n\\nAs an example, for the schema {\"properties\": {\"foo\": {\"title\": \"Foo\", \"description\": \"a list of strings\", \"type\": \"array\", \"items\": {\"type\": \"string\"}}}, \"required\": [\"foo\"]}\\nthe object {\"foo\": [\"bar\", \"baz\"]} is a well-formatted instance of the schema. The object {\"properties\": {\"foo\": [\"bar\", \"baz\"]}} is not well-formatted.\\n\\nHere is the output schema:\\n```\\n{\"properties\": {\"country\": {\"description\": \"The name of the country\", \"title\": \"Country\", \"type\": \"string\"}, \"capital\": {\"description\": \"The capital city of the country\", \"title\": \"Capital\", \"type\": \"string\"}}, \"required\": [\"country\", \"capital\"]}\\n```'}, template='\\nGive me only one country that speak {language} and its capitals.\\nFormat instructions: \\n{format_instructions}\\n')"
      ]
     },
     "execution_count": 60,
     "metadata": {},
     "output_type": "execute_result"
    }
   ],
   "source": [
    "\n",
    "prompt = PromptTemplate(\n",
    "    input_variables=[\"language\"],\n",
    "    template=text_template,\n",
    "    partial_variables={\"format_instructions\": output_parser.get_format_instructions()},\n",
    ")\n",
    "prompt"
   ]
  },
  {
   "cell_type": "code",
   "execution_count": 61,
   "id": "f6396ac7",
   "metadata": {},
   "outputs": [
    {
     "name": "stdout",
     "output_type": "stream",
     "text": [
      "\n",
      "Give me only one country that speak quechua and its capitals.\n",
      "Format instructions: \n",
      "The output should be formatted as a JSON instance that conforms to the JSON schema below.\n",
      "\n",
      "As an example, for the schema {\"properties\": {\"foo\": {\"title\": \"Foo\", \"description\": \"a list of strings\", \"type\": \"array\", \"items\": {\"type\": \"string\"}}}, \"required\": [\"foo\"]}\n",
      "the object {\"foo\": [\"bar\", \"baz\"]} is a well-formatted instance of the schema. The object {\"properties\": {\"foo\": [\"bar\", \"baz\"]}} is not well-formatted.\n",
      "\n",
      "Here is the output schema:\n",
      "```\n",
      "{\"properties\": {\"country\": {\"description\": \"The name of the country\", \"title\": \"Country\", \"type\": \"string\"}, \"capital\": {\"description\": \"The capital city of the country\", \"title\": \"Capital\", \"type\": \"string\"}}, \"required\": [\"country\", \"capital\"]}\n",
      "```\n",
      "\n"
     ]
    }
   ],
   "source": [
    "final_prompt = prompt.format_prompt(language=\"quechua\")\n",
    "print(final_prompt.to_string())"
   ]
  },
  {
   "cell_type": "code",
   "execution_count": 62,
   "id": "b3d0fea3",
   "metadata": {},
   "outputs": [],
   "source": [
    "llm = OpenAI(temperature=1)\n"
   ]
  },
  {
   "cell_type": "code",
   "execution_count": 63,
   "id": "2922f76b",
   "metadata": {},
   "outputs": [],
   "source": [
    "output = llm.invoke(input=final_prompt.to_string())"
   ]
  },
  {
   "cell_type": "code",
   "execution_count": 64,
   "id": "e32e943e",
   "metadata": {},
   "outputs": [
    {
     "data": {
      "text/plain": [
       "'Here is the code providing the country and its capital:\\n\\n```\\n\\n{\\n    \"country\": \"Peru\",\\n    \"capital\": \"Lima\"\\n}'"
      ]
     },
     "execution_count": 64,
     "metadata": {},
     "output_type": "execute_result"
    }
   ],
   "source": [
    "output"
   ]
  },
  {
   "cell_type": "code",
   "execution_count": 65,
   "id": "9a7bc710",
   "metadata": {},
   "outputs": [
    {
     "data": {
      "text/plain": [
       "str"
      ]
     },
     "execution_count": 65,
     "metadata": {},
     "output_type": "execute_result"
    }
   ],
   "source": [
    "type(output)"
   ]
  },
  {
   "cell_type": "code",
   "execution_count": 67,
   "id": "03539d59",
   "metadata": {},
   "outputs": [
    {
     "data": {
      "text/plain": [
       "CountryInfo(country='Peru', capital='Lima')"
      ]
     },
     "execution_count": 67,
     "metadata": {},
     "output_type": "execute_result"
    }
   ],
   "source": [
    "elements = output_parser.parse(output)\n",
    "elements"
   ]
  }
 ],
 "metadata": {
  "kernelspec": {
   "display_name": "venv",
   "language": "python",
   "name": "python3"
  },
  "language_info": {
   "codemirror_mode": {
    "name": "ipython",
    "version": 3
   },
   "file_extension": ".py",
   "mimetype": "text/x-python",
   "name": "python",
   "nbconvert_exporter": "python",
   "pygments_lexer": "ipython3",
   "version": "3.12.2"
  }
 },
 "nbformat": 4,
 "nbformat_minor": 5
}
