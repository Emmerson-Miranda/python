{
 "cells": [
  {
   "cell_type": "code",
   "execution_count": 38,
   "id": "bc308ee9-99c8-4767-a46f-56428885154c",
   "metadata": {},
   "outputs": [],
   "source": [
    "from langchain_openai import ChatOpenAI\n",
    "from langchain.prompts import ChatPromptTemplate\n",
    "from langchain_core.output_parsers import StrOutputParser\n",
    "from langchain_core.runnables import RunnablePassthrough"
   ]
  },
  {
   "cell_type": "code",
   "execution_count": 39,
   "id": "cebb2e59-8acd-4b29-b2d2-8dbff1ef80d2",
   "metadata": {},
   "outputs": [],
   "source": [
    "#import os\n",
    "#os.environ[\"OPENAI_API_KEY\"]=\"YOUR_OPENAI_API_KEY\""
   ]
  },
  {
   "cell_type": "code",
   "execution_count": 40,
   "id": "ce9c503a",
   "metadata": {},
   "outputs": [],
   "source": [
    "prompt = ChatPromptTemplate.from_template(\"Say hello in {language} and in {language2}\")"
   ]
  },
  {
   "cell_type": "code",
   "execution_count": 41,
   "id": "8de5f127-de3e-4191-a3c6-0923fe03fd30",
   "metadata": {},
   "outputs": [
    {
     "data": {
      "text/plain": [
       "RunnablePassthrough()\n",
       "| ChatPromptTemplate(input_variables=['language', 'language2'], input_types={}, partial_variables={}, messages=[HumanMessagePromptTemplate(prompt=PromptTemplate(input_variables=['language', 'language2'], input_types={}, partial_variables={}, template='Say hello in {language} and in {language2}'), additional_kwargs={})])\n",
       "| ChatOpenAI(client=<openai.resources.chat.completions.completions.Completions object at 0x10e7ae3c0>, async_client=<openai.resources.chat.completions.completions.AsyncCompletions object at 0x10e7b5700>, root_client=<openai.OpenAI object at 0x10e7ac320>, root_async_client=<openai.AsyncOpenAI object at 0x10e7b5820>, model_kwargs={}, openai_api_key=SecretStr('**********'))\n",
       "| StrOutputParser()"
      ]
     },
     "execution_count": 41,
     "metadata": {},
     "output_type": "execute_result"
    }
   ],
   "source": [
    "llm = ChatOpenAI()\n",
    "output_parser = StrOutputParser()\n",
    "\n",
    "chain = RunnablePassthrough() | prompt | llm | output_parser\n",
    "chain"
   ]
  },
  {
   "cell_type": "code",
   "execution_count": 42,
   "id": "c9cb7521",
   "metadata": {},
   "outputs": [
    {
     "name": "stdout",
     "output_type": "stream",
     "text": [
      "French: Bonjour\n",
      "English: Hello\n"
     ]
    }
   ],
   "source": [
    "\n",
    "output = chain.invoke({\"language\": \"French\", \"language2\": \"English\"})\n",
    "print(output)"
   ]
  },
  {
   "cell_type": "code",
   "execution_count": 43,
   "id": "fbd5fdee",
   "metadata": {},
   "outputs": [
    {
     "data": {
      "text/plain": [
       "RunnablePassthrough()\n",
       "| RunnableAssign(mapper={\n",
       "    language2: RunnableLambda(lambda x: 'Gallego')\n",
       "  })\n",
       "| ChatPromptTemplate(input_variables=['language', 'language2'], input_types={}, partial_variables={}, messages=[HumanMessagePromptTemplate(prompt=PromptTemplate(input_variables=['language', 'language2'], input_types={}, partial_variables={}, template='Say hello in {language} and in {language2}'), additional_kwargs={})])\n",
       "| ChatOpenAI(client=<openai.resources.chat.completions.completions.Completions object at 0x10e7ae3c0>, async_client=<openai.resources.chat.completions.completions.AsyncCompletions object at 0x10e7b5700>, root_client=<openai.OpenAI object at 0x10e7ac320>, root_async_client=<openai.AsyncOpenAI object at 0x10e7b5820>, model_kwargs={}, openai_api_key=SecretStr('**********'))\n",
       "| StrOutputParser()"
      ]
     },
     "execution_count": 43,
     "metadata": {},
     "output_type": "execute_result"
    }
   ],
   "source": [
    "chain2 = RunnablePassthrough() | RunnablePassthrough.assign(language2=lambda x: \"Gallego\") | prompt | llm | output_parser\n",
    "chain2"
   ]
  },
  {
   "cell_type": "code",
   "execution_count": 44,
   "id": "d9f9e051",
   "metadata": {},
   "outputs": [
    {
     "name": "stdout",
     "output_type": "stream",
     "text": [
      "Bonjour (Catalan) / Ola (Gallego)\n"
     ]
    }
   ],
   "source": [
    "output2 = chain2.invoke({\"language\": \"Catalan\"})\n",
    "print(output2)"
   ]
  }
 ],
 "metadata": {
  "kernelspec": {
   "display_name": "venv",
   "language": "python",
   "name": "python3"
  },
  "language_info": {
   "codemirror_mode": {
    "name": "ipython",
    "version": 3
   },
   "file_extension": ".py",
   "mimetype": "text/x-python",
   "name": "python",
   "nbconvert_exporter": "python",
   "pygments_lexer": "ipython3",
   "version": "3.12.2"
  }
 },
 "nbformat": 4,
 "nbformat_minor": 5
}
