{
 "cells": [
  {
   "cell_type": "code",
   "execution_count": 65,
   "id": "bc308ee9-99c8-4767-a46f-56428885154c",
   "metadata": {},
   "outputs": [],
   "source": [
    "from langchain_openai import OpenAI\n",
    "from langchain.prompts import PromptTemplate\n",
    "from langchain.output_parsers import CommaSeparatedListOutputParser"
   ]
  },
  {
   "cell_type": "code",
   "execution_count": 66,
   "id": "cebb2e59-8acd-4b29-b2d2-8dbff1ef80d2",
   "metadata": {},
   "outputs": [],
   "source": [
    "#import os\n",
    "#os.environ[\"OPENAI_API_KEY\"]=\"YOUR_OPENAI_API_KEY\"\n",
    "llm = OpenAI(temperature=1)"
   ]
  },
  {
   "cell_type": "code",
   "execution_count": 67,
   "id": "d662cb8b",
   "metadata": {},
   "outputs": [
    {
     "name": "stdout",
     "output_type": "stream",
     "text": [
      "Your response should be a list of comma separated values, eg: `foo, bar, baz` or `foo,bar,baz`\n"
     ]
    }
   ],
   "source": [
    "output_parser = CommaSeparatedListOutputParser()\n",
    "format_instructions = output_parser.get_format_instructions()\n",
    "print(format_instructions)"
   ]
  },
  {
   "cell_type": "code",
   "execution_count": 68,
   "id": "cf55af2f",
   "metadata": {},
   "outputs": [
    {
     "data": {
      "text/plain": [
       "PromptTemplate(input_variables=['topic'], input_types={}, partial_variables={'format_instructions': 'Your response should be a list of comma separated values, eg: `foo, bar, baz` or `foo,bar,baz`'}, template='List 3 key points about {topic}.\\n{format_instructions}')"
      ]
     },
     "execution_count": 68,
     "metadata": {},
     "output_type": "execute_result"
    }
   ],
   "source": [
    "prompt = PromptTemplate(\n",
    "    input_variables=[\"topic\"],\n",
    "    template=\"List 3 key points about {topic}.\\n{format_instructions}\",\n",
    "    partial_variables={\"format_instructions\": format_instructions},\n",
    ")\n",
    "prompt"
   ]
  },
  {
   "cell_type": "code",
   "execution_count": 69,
   "id": "f6396ac7",
   "metadata": {},
   "outputs": [
    {
     "data": {
      "text/plain": [
       "'List 3 key points about Countries that speak quechua, only the names.\\nYour response should be a list of comma separated values, eg: `foo, bar, baz` or `foo,bar,baz`'"
      ]
     },
     "execution_count": 69,
     "metadata": {},
     "output_type": "execute_result"
    }
   ],
   "source": [
    "final_prompt = prompt.format(topic=\"Countries that speak quechua, only the names\")\n",
    "final_prompt"
   ]
  },
  {
   "cell_type": "code",
   "execution_count": 70,
   "id": "b3d0fea3",
   "metadata": {},
   "outputs": [],
   "source": [
    "output = llm.invoke(input=final_prompt)"
   ]
  },
  {
   "cell_type": "code",
   "execution_count": 71,
   "id": "e32e943e",
   "metadata": {},
   "outputs": [
    {
     "data": {
      "text/plain": [
       "'Peru, Bolivia, Colombia'"
      ]
     },
     "execution_count": 71,
     "metadata": {},
     "output_type": "execute_result"
    }
   ],
   "source": [
    "output.strip()"
   ]
  },
  {
   "cell_type": "code",
   "execution_count": 72,
   "id": "9a7bc710",
   "metadata": {},
   "outputs": [
    {
     "name": "stdout",
     "output_type": "stream",
     "text": [
      "['Peru', 'Bolivia', 'Colombia']\n"
     ]
    }
   ],
   "source": [
    "elements = output_parser.parse(output)\n",
    "print(elements)"
   ]
  }
 ],
 "metadata": {
  "kernelspec": {
   "display_name": "venv",
   "language": "python",
   "name": "python3"
  },
  "language_info": {
   "codemirror_mode": {
    "name": "ipython",
    "version": 3
   },
   "file_extension": ".py",
   "mimetype": "text/x-python",
   "name": "python",
   "nbconvert_exporter": "python",
   "pygments_lexer": "ipython3",
   "version": "3.12.2"
  }
 },
 "nbformat": 4,
 "nbformat_minor": 5
}
