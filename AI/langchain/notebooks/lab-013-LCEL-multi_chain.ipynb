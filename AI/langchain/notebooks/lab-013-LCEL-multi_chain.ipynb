{
 "cells": [
  {
   "cell_type": "code",
   "execution_count": 23,
   "id": "bc308ee9-99c8-4767-a46f-56428885154c",
   "metadata": {},
   "outputs": [],
   "source": [
    "from langchain_openai import ChatOpenAI\n",
    "from langchain.prompts import ChatPromptTemplate\n",
    "from langchain_core.output_parsers import StrOutputParser\n",
    "from langchain_core.runnables import RunnablePassthrough"
   ]
  },
  {
   "cell_type": "code",
   "execution_count": 24,
   "id": "cebb2e59-8acd-4b29-b2d2-8dbff1ef80d2",
   "metadata": {},
   "outputs": [],
   "source": [
    "#import os\n",
    "#os.environ[\"OPENAI_API_KEY\"]=\"YOUR_OPENAI_API_KEY\""
   ]
  },
  {
   "cell_type": "code",
   "execution_count": 25,
   "id": "ce9c503a",
   "metadata": {},
   "outputs": [],
   "source": [
    "title = (\n",
    "    ChatPromptTemplate.from_template(\"Give me a title for a book about {topic}\")\n",
    "    | ChatOpenAI() \n",
    "    | StrOutputParser()\n",
    "    | {\"title\": RunnablePassthrough()}\n",
    "    )"
   ]
  },
  {
   "cell_type": "code",
   "execution_count": 26,
   "id": "1639965f",
   "metadata": {},
   "outputs": [],
   "source": [
    "outline = (\n",
    "    ChatPromptTemplate.from_template(\"Give me a detailed outline for {title}\")\n",
    "    | ChatOpenAI() \n",
    "    | StrOutputParser()\n",
    "    | {\"outline\": RunnablePassthrough()}\n",
    "    )"
   ]
  },
  {
   "cell_type": "code",
   "execution_count": 27,
   "id": "d860b0c3",
   "metadata": {},
   "outputs": [],
   "source": [
    "blog = (\n",
    "    ChatPromptTemplate.from_template(\"Generate a 150 word blog post based on the outline: {outline}\")\n",
    "    | ChatOpenAI() \n",
    "    | StrOutputParser()\n",
    "    | {\"blog\": RunnablePassthrough()}\n",
    "    )"
   ]
  },
  {
   "cell_type": "code",
   "execution_count": 28,
   "id": "13a484bd",
   "metadata": {},
   "outputs": [],
   "source": [
    "summary = (\n",
    "    ChatPromptTemplate.from_template(\"Generate a summary for the post: {blog}\")\n",
    "    | ChatOpenAI() \n",
    "    | StrOutputParser()\n",
    "    )"
   ]
  },
  {
   "cell_type": "code",
   "execution_count": 29,
   "id": "8de5f127-de3e-4191-a3c6-0923fe03fd30",
   "metadata": {},
   "outputs": [],
   "source": [
    "# Chain the chains together\n",
    "content_chain = title | outline | blog | summary"
   ]
  },
  {
   "cell_type": "code",
   "execution_count": 30,
   "id": "3a64d038",
   "metadata": {},
   "outputs": [],
   "source": [
    "output = content_chain.invoke({\"topic\": \"The impact of AI on modern education\"})"
   ]
  },
  {
   "cell_type": "code",
   "execution_count": 31,
   "id": "5d5cb28f",
   "metadata": {},
   "outputs": [
    {
     "data": {
      "text/plain": [
       "ChatPromptTemplate(input_variables=['topic'], input_types={}, partial_variables={}, messages=[HumanMessagePromptTemplate(prompt=PromptTemplate(input_variables=['topic'], input_types={}, partial_variables={}, template='Give me a title for a book about {topic}'), additional_kwargs={})])\n",
       "| ChatOpenAI(client=<openai.resources.chat.completions.completions.Completions object at 0x11014e150>, async_client=<openai.resources.chat.completions.completions.AsyncCompletions object at 0x11014d700>, root_client=<openai.OpenAI object at 0x11014d6d0>, root_async_client=<openai.AsyncOpenAI object at 0x11014e180>, model_kwargs={}, openai_api_key=SecretStr('**********'))\n",
       "| StrOutputParser()\n",
       "| {\n",
       "    title: RunnablePassthrough()\n",
       "  }\n",
       "| ChatPromptTemplate(input_variables=['title'], input_types={}, partial_variables={}, messages=[HumanMessagePromptTemplate(prompt=PromptTemplate(input_variables=['title'], input_types={}, partial_variables={}, template='Give me a detailed outline for {title}'), additional_kwargs={})])\n",
       "| ChatOpenAI(client=<openai.resources.chat.completions.completions.Completions object at 0x11014e330>, async_client=<openai.resources.chat.completions.completions.AsyncCompletions object at 0x11014e690>, root_client=<openai.OpenAI object at 0x11014e030>, root_async_client=<openai.AsyncOpenAI object at 0x11014e4e0>, model_kwargs={}, openai_api_key=SecretStr('**********'))\n",
       "| StrOutputParser()\n",
       "| {\n",
       "    outline: RunnablePassthrough()\n",
       "  }\n",
       "| ChatPromptTemplate(input_variables=['outline'], input_types={}, partial_variables={}, messages=[HumanMessagePromptTemplate(prompt=PromptTemplate(input_variables=['outline'], input_types={}, partial_variables={}, template='Generate a 150 word blog post based on the outline: {outline}'), additional_kwargs={})])\n",
       "| ChatOpenAI(client=<openai.resources.chat.completions.completions.Completions object at 0x11014e8d0>, async_client=<openai.resources.chat.completions.completions.AsyncCompletions object at 0x11014ea80>, root_client=<openai.OpenAI object at 0x11014d790>, root_async_client=<openai.AsyncOpenAI object at 0x11014e8a0>, model_kwargs={}, openai_api_key=SecretStr('**********'))\n",
       "| StrOutputParser()\n",
       "| {\n",
       "    blog: RunnablePassthrough()\n",
       "  }\n",
       "| ChatPromptTemplate(input_variables=['blog'], input_types={}, partial_variables={}, messages=[HumanMessagePromptTemplate(prompt=PromptTemplate(input_variables=['blog'], input_types={}, partial_variables={}, template='Generate a summary for the post: {blog}'), additional_kwargs={})])\n",
       "| ChatOpenAI(client=<openai.resources.chat.completions.completions.Completions object at 0x11014d130>, async_client=<openai.resources.chat.completions.completions.AsyncCompletions object at 0x11014eed0>, root_client=<openai.OpenAI object at 0x11014ec90>, root_async_client=<openai.AsyncOpenAI object at 0x11014ed50>, model_kwargs={}, openai_api_key=SecretStr('**********'))\n",
       "| StrOutputParser()"
      ]
     },
     "execution_count": 31,
     "metadata": {},
     "output_type": "execute_result"
    }
   ],
   "source": [
    "content_chain"
   ]
  },
  {
   "cell_type": "code",
   "execution_count": null,
   "id": "92ab3291",
   "metadata": {},
   "outputs": [
    {
     "name": "stdout",
     "output_type": "stream",
     "text": [
      "AI is reshaping the future of learning and revolutionizing education through personalized learning, adaptive learning platforms, and tools like chatbots and virtual assistants. Despite challenges such as the need for educator training and addressing ethical concerns, the potential of AI in education is promising. By embracing AI, educators and policymakers can bridge learning gaps, provide equal access to education, and shape the future of learning for generations to come. The transformative power of AI in education is undeniable, and it is up to us to harness it for the betterment of education worldwide.\n"
     ]
    }
   ],
   "source": [
    "print(output)"
   ]
  },
  {
   "cell_type": "code",
   "execution_count": 34,
   "id": "0c78be6a",
   "metadata": {},
   "outputs": [
    {
     "name": "stdout",
     "output_type": "stream",
     "text": [
      "     +-------------+       \n",
      "     | PromptInput |       \n",
      "     +-------------+       \n",
      "            *              \n",
      "            *              \n",
      "            *              \n",
      "  +--------------------+   \n",
      "  | ChatPromptTemplate |   \n",
      "  +--------------------+   \n",
      "            *              \n",
      "            *              \n",
      "            *              \n",
      "      +------------+       \n",
      "      | ChatOpenAI |       \n",
      "      +------------+       \n",
      "            *              \n",
      "            *              \n",
      "            *              \n",
      "   +-----------------+     \n",
      "   | StrOutputParser |     \n",
      "   +-----------------+     \n",
      "            *              \n",
      "            *              \n",
      "            *              \n",
      "     +-------------+       \n",
      "     | Passthrough |       \n",
      "     +-------------+       \n",
      "            *              \n",
      "            *              \n",
      "            *              \n",
      "  +--------------------+   \n",
      "  | ChatPromptTemplate |   \n",
      "  +--------------------+   \n",
      "            *              \n",
      "            *              \n",
      "            *              \n",
      "      +------------+       \n",
      "      | ChatOpenAI |       \n",
      "      +------------+       \n",
      "            *              \n",
      "            *              \n",
      "            *              \n",
      "   +-----------------+     \n",
      "   | StrOutputParser |     \n",
      "   +-----------------+     \n",
      "            *              \n",
      "            *              \n",
      "            *              \n",
      "     +-------------+       \n",
      "     | Passthrough |       \n",
      "     +-------------+       \n",
      "            *              \n",
      "            *              \n",
      "            *              \n",
      "  +--------------------+   \n",
      "  | ChatPromptTemplate |   \n",
      "  +--------------------+   \n",
      "            *              \n",
      "            *              \n",
      "            *              \n",
      "      +------------+       \n",
      "      | ChatOpenAI |       \n",
      "      +------------+       \n",
      "            *              \n",
      "            *              \n",
      "            *              \n",
      "   +-----------------+     \n",
      "   | StrOutputParser |     \n",
      "   +-----------------+     \n",
      "            *              \n",
      "            *              \n",
      "            *              \n",
      "     +-------------+       \n",
      "     | Passthrough |       \n",
      "     +-------------+       \n",
      "            *              \n",
      "            *              \n",
      "            *              \n",
      "  +--------------------+   \n",
      "  | ChatPromptTemplate |   \n",
      "  +--------------------+   \n",
      "            *              \n",
      "            *              \n",
      "            *              \n",
      "      +------------+       \n",
      "      | ChatOpenAI |       \n",
      "      +------------+       \n",
      "            *              \n",
      "            *              \n",
      "            *              \n",
      "   +-----------------+     \n",
      "   | StrOutputParser |     \n",
      "   +-----------------+     \n",
      "            *              \n",
      "            *              \n",
      "            *              \n",
      "+-----------------------+  \n",
      "| StrOutputParserOutput |  \n",
      "+-----------------------+  \n"
     ]
    }
   ],
   "source": [
    "content_chain.get_graph().print_ascii()"
   ]
  }
 ],
 "metadata": {
  "kernelspec": {
   "display_name": "venv",
   "language": "python",
   "name": "python3"
  },
  "language_info": {
   "codemirror_mode": {
    "name": "ipython",
    "version": 3
   },
   "file_extension": ".py",
   "mimetype": "text/x-python",
   "name": "python",
   "nbconvert_exporter": "python",
   "pygments_lexer": "ipython3",
   "version": "3.12.2"
  }
 },
 "nbformat": 4,
 "nbformat_minor": 5
}
