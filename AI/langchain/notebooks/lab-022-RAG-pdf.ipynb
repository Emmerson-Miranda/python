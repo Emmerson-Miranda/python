{
 "cells": [
  {
   "cell_type": "code",
   "execution_count": 7,
   "id": "e34df0d5",
   "metadata": {},
   "outputs": [],
   "source": [
    "# https://python.langchain.com/docs/integrations/document_loaders/pypdfloader/\n",
    "# https://python.langchain.com/docs/integrations/document_loaders/#pdfs\n",
    "# https://python.langchain.com/api_reference/text_splitters/character/langchain_text_splitters.character.RecursiveCharacterTextSplitter.html#recursivecharactertextsplitter\n",
    "# https://python.langchain.com/docs/integrations/text_embedding/\n",
    "# https://python.langchain.com/docs/how_to/document_loader_pdf/\n",
    "\n",
    "from langchain_community.document_loaders import PyPDFLoader\n",
    "from langchain_openai import OpenAIEmbeddings\n",
    "from langchain_core.vectorstores import InMemoryVectorStore\n",
    "\n",
    "from langchain_openai import ChatOpenAI\n",
    "from langchain.prompts import PromptTemplate\n",
    "from langchain_core.output_parsers import StrOutputParser\n",
    "from langchain_core.runnables import RunnablePassthrough"
   ]
  },
  {
   "cell_type": "code",
   "execution_count": 8,
   "id": "b1b1235c",
   "metadata": {},
   "outputs": [],
   "source": [
    "import getpass\n",
    "import os\n",
    "\n",
    "if not os.environ.get(\"OPENAI_API_KEY\"):\n",
    "  os.environ[\"OPENAI_API_KEY\"] = getpass.getpass(\"Enter API key for OpenAI: \")"
   ]
  },
  {
   "cell_type": "code",
   "execution_count": 9,
   "id": "4f8ff43f",
   "metadata": {},
   "outputs": [],
   "source": [
    "loader = PyPDFLoader(\"./tictactoe_user_stories.pdf\")"
   ]
  },
  {
   "cell_type": "code",
   "execution_count": 10,
   "id": "65b05042",
   "metadata": {},
   "outputs": [],
   "source": [
    "pages = loader.load_and_split()"
   ]
  },
  {
   "cell_type": "code",
   "execution_count": 11,
   "id": "0a021a84",
   "metadata": {},
   "outputs": [],
   "source": [
    "embeddings = OpenAIEmbeddings(model=\"text-embedding-3-large\")"
   ]
  },
  {
   "cell_type": "code",
   "execution_count": 12,
   "id": "f1ec96f7",
   "metadata": {},
   "outputs": [],
   "source": [
    "\n",
    "vector_store = InMemoryVectorStore.from_documents(pages, embeddings)\n",
    "retriever = vector_store.as_retriever()"
   ]
  },
  {
   "cell_type": "code",
   "execution_count": 13,
   "id": "af3b5aa2",
   "metadata": {},
   "outputs": [],
   "source": [
    "def format_docs(docs):\n",
    "    return \"\\n\\n\".join(doc.page_content for doc in docs)"
   ]
  },
  {
   "cell_type": "code",
   "execution_count": 14,
   "id": "ef3934d4",
   "metadata": {},
   "outputs": [],
   "source": [
    "llm = ChatOpenAI(model=\"gpt-3.5-turbo\", temperature=0)"
   ]
  },
  {
   "cell_type": "code",
   "execution_count": 15,
   "id": "78590994",
   "metadata": {},
   "outputs": [],
   "source": [
    "template = \"\"\"You are a helpful AI assistant. \n",
    "Be factual in your response.\n",
    "Respond the folowing question: {question} only from below context: {context}.\n",
    "If you don't know the answer, just say that you don't know, don't try to make up an answer.\"\"\""
   ]
  },
  {
   "cell_type": "code",
   "execution_count": 16,
   "id": "49c68e0d",
   "metadata": {},
   "outputs": [],
   "source": [
    "prompt = PromptTemplate.from_template(template)"
   ]
  },
  {
   "cell_type": "code",
   "execution_count": 20,
   "id": "310216ab",
   "metadata": {},
   "outputs": [],
   "source": [
    "chain = (\n",
    "  {\"context\": retriever | format_docs, \"question\": RunnablePassthrough()}\n",
    "  | prompt  | llm | StrOutputParser()\n",
    ")"
   ]
  },
  {
   "cell_type": "code",
   "execution_count": 21,
   "id": "506ceddf",
   "metadata": {},
   "outputs": [
    {
     "data": {
      "text/plain": [
       "'The first user story from the context provided is: \"As a Google user, I want to log in using my Google account, so that my identity is authenticated securely and my progress can be tracked.\"'"
      ]
     },
     "execution_count": 21,
     "metadata": {},
     "output_type": "execute_result"
    }
   ],
   "source": [
    "chain.invoke( \"What is the first user story?\")"
   ]
  },
  {
   "cell_type": "code",
   "execution_count": 23,
   "id": "607718b9",
   "metadata": {},
   "outputs": [
    {
     "data": {
      "text/plain": [
       "'As a user, you should use your Google account credentials to log in to the application.'"
      ]
     },
     "execution_count": 23,
     "metadata": {},
     "output_type": "execute_result"
    }
   ],
   "source": [
    "chain.invoke( \"Which credentials I have to use to login?\")"
   ]
  },
  {
   "cell_type": "code",
   "execution_count": 24,
   "id": "849d5533",
   "metadata": {},
   "outputs": [
    {
     "data": {
      "text/plain": [
       "'Based on the user stories provided, the game should be accessible to users with disabilities, including those who are blind. The application should meet WCAG 2.2 Level A compliance, ensuring that the interface is accessible to users with disabilities. This means that as a blind user, you should be able to play the game with the necessary accessibility features in place.'"
      ]
     },
     "execution_count": 24,
     "metadata": {},
     "output_type": "execute_result"
    }
   ],
   "source": [
    "chain.invoke( \"I am blind, can I play the game?\")"
   ]
  }
 ],
 "metadata": {
  "kernelspec": {
   "display_name": "venv",
   "language": "python",
   "name": "python3"
  },
  "language_info": {
   "codemirror_mode": {
    "name": "ipython",
    "version": 3
   },
   "file_extension": ".py",
   "mimetype": "text/x-python",
   "name": "python",
   "nbconvert_exporter": "python",
   "pygments_lexer": "ipython3",
   "version": "3.12.2"
  }
 },
 "nbformat": 4,
 "nbformat_minor": 5
}
