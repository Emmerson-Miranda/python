{
 "cells": [
  {
   "cell_type": "code",
   "execution_count": 3,
   "id": "bc308ee9-99c8-4767-a46f-56428885154c",
   "metadata": {},
   "outputs": [],
   "source": [
    "from langchain_openai import ChatOpenAI\n",
    "from langchain_core.messages import HumanMessage, SystemMessage"
   ]
  },
  {
   "cell_type": "code",
   "execution_count": 4,
   "id": "cebb2e59-8acd-4b29-b2d2-8dbff1ef80d2",
   "metadata": {},
   "outputs": [],
   "source": [
    "#import os\n",
    "#os.environ[\"OPENAI_API_KEY\"]=\"YOUR_OPENAI_API_KEY\""
   ]
  },
  {
   "cell_type": "code",
   "execution_count": 5,
   "id": "907384c2-eaee-4294-a34e-c697c60942b8",
   "metadata": {},
   "outputs": [],
   "source": [
    "llm = ChatOpenAI()"
   ]
  },
  {
   "cell_type": "code",
   "execution_count": 6,
   "id": "92bd5655-9c82-4761-bad7-9062bdfc0159",
   "metadata": {},
   "outputs": [],
   "source": [
    "sysmsg= SystemMessage(\n",
    "    content=\"You are a maths teacher. You will answer the question in a step by step manner.\"\n",
    ")"
   ]
  },
  {
   "cell_type": "code",
   "execution_count": 7,
   "id": "c5802c10",
   "metadata": {},
   "outputs": [],
   "source": [
    "humanmsg = HumanMessage(\n",
    "    content=\"What is 2+2*10-2/4?\"\n",
    ")"
   ]
  },
  {
   "cell_type": "code",
   "execution_count": 8,
   "id": "ce9c503a",
   "metadata": {},
   "outputs": [],
   "source": [
    "messages = [sysmsg, humanmsg]\n"
   ]
  },
  {
   "cell_type": "code",
   "execution_count": 9,
   "id": "f44b1387",
   "metadata": {},
   "outputs": [],
   "source": [
    "response = llm.invoke(messages)"
   ]
  },
  {
   "cell_type": "code",
   "execution_count": 10,
   "id": "0e0c5a77-acb7-4629-9ecf-63065c1bec20",
   "metadata": {},
   "outputs": [
    {
     "data": {
      "text/plain": [
       "AIMessage(content='To solve this expression, we follow the order of operations, which is parentheses, exponents, multiplication and division (from left to right), and addition and subtraction (from left to right).\\n\\n1. Solve multiplication and division before addition and subtraction:\\n2*10 = 20\\n2/4 = 0.5\\n\\nNow we have: 2 + 20 - 0.5\\n\\n2. Perform addition and subtraction in order from left to right:\\n2 + 20 = 22\\n22 - 0.5 = 21.5\\n\\nTherefore, the answer to the expression 2 + 2*10 - 2/4 is 21.5.', additional_kwargs={'refusal': None}, response_metadata={'token_usage': {'completion_tokens': 138, 'prompt_tokens': 42, 'total_tokens': 180, 'completion_tokens_details': {'accepted_prediction_tokens': 0, 'audio_tokens': 0, 'reasoning_tokens': 0, 'rejected_prediction_tokens': 0}, 'prompt_tokens_details': {'audio_tokens': 0, 'cached_tokens': 0}}, 'model_name': 'gpt-3.5-turbo-0125', 'system_fingerprint': None, 'id': 'chatcmpl-C8Os3tFZaoN3Khg0TwYJF3pzu54HV', 'service_tier': 'default', 'finish_reason': 'stop', 'logprobs': None}, id='run--052454c6-6e2c-401d-abdb-0004a1a60c05-0', usage_metadata={'input_tokens': 42, 'output_tokens': 138, 'total_tokens': 180, 'input_token_details': {'audio': 0, 'cache_read': 0}, 'output_token_details': {'audio': 0, 'reasoning': 0}})"
      ]
     },
     "execution_count": 10,
     "metadata": {},
     "output_type": "execute_result"
    }
   ],
   "source": [
    "response"
   ]
  },
  {
   "cell_type": "code",
   "execution_count": 11,
   "id": "e1ea329a-0db0-4d49-ab16-67e464afab51",
   "metadata": {},
   "outputs": [
    {
     "name": "stdout",
     "output_type": "stream",
     "text": [
      "To solve this expression, we follow the order of operations, which is parentheses, exponents, multiplication and division (from left to right), and addition and subtraction (from left to right).\n",
      "\n",
      "1. Solve multiplication and division before addition and subtraction:\n",
      "2*10 = 20\n",
      "2/4 = 0.5\n",
      "\n",
      "Now we have: 2 + 20 - 0.5\n",
      "\n",
      "2. Perform addition and subtraction in order from left to right:\n",
      "2 + 20 = 22\n",
      "22 - 0.5 = 21.5\n",
      "\n",
      "Therefore, the answer to the expression 2 + 2*10 - 2/4 is 21.5.\n"
     ]
    }
   ],
   "source": [
    "print(response.content)"
   ]
  },
  {
   "cell_type": "code",
   "execution_count": null,
   "id": "8de5f127-de3e-4191-a3c6-0923fe03fd30",
   "metadata": {},
   "outputs": [],
   "source": []
  }
 ],
 "metadata": {
  "kernelspec": {
   "display_name": "venv",
   "language": "python",
   "name": "python3"
  },
  "language_info": {
   "codemirror_mode": {
    "name": "ipython",
    "version": 3
   },
   "file_extension": ".py",
   "mimetype": "text/x-python",
   "name": "python",
   "nbconvert_exporter": "python",
   "pygments_lexer": "ipython3",
   "version": "3.12.2"
  }
 },
 "nbformat": 4,
 "nbformat_minor": 5
}
