{
 "cells": [
  {
   "cell_type": "code",
   "execution_count": 76,
   "id": "bc308ee9-99c8-4767-a46f-56428885154c",
   "metadata": {},
   "outputs": [],
   "source": [
    "from langchain_openai import OpenAI\n",
    "from langchain.prompts import PromptTemplate\n",
    "from langchain_core.output_parsers import JsonOutputParser\n",
    "import pprint"
   ]
  },
  {
   "cell_type": "code",
   "execution_count": 77,
   "id": "cebb2e59-8acd-4b29-b2d2-8dbff1ef80d2",
   "metadata": {},
   "outputs": [],
   "source": [
    "#import os\n",
    "#os.environ[\"OPENAI_API_KEY\"]=\"YOUR_OPENAI_API_KEY\""
   ]
  },
  {
   "cell_type": "code",
   "execution_count": 78,
   "id": "d662cb8b",
   "metadata": {},
   "outputs": [
    {
     "name": "stdout",
     "output_type": "stream",
     "text": [
      "Return a JSON object.\n"
     ]
    }
   ],
   "source": [
    "output_parser = JsonOutputParser()\n",
    "format_instructions = output_parser.get_format_instructions()\n",
    "print(format_instructions)"
   ]
  },
  {
   "cell_type": "code",
   "execution_count": 79,
   "id": "cf55af2f",
   "metadata": {},
   "outputs": [
    {
     "data": {
      "text/plain": [
       "PromptTemplate(input_variables=['country'], input_types={}, partial_variables={'format_instructions': 'Return a JSON object.'}, template='List 3 countries that speak {country} and their capitals.\\n{format_instructions}')"
      ]
     },
     "execution_count": 79,
     "metadata": {},
     "output_type": "execute_result"
    }
   ],
   "source": [
    "prompt = PromptTemplate(\n",
    "    input_variables=[\"country\"],\n",
    "    template=\"List 3 countries that speak {country} and their capitals.\\n{format_instructions}\",\n",
    "    partial_variables={\"format_instructions\": format_instructions},\n",
    ")\n",
    "prompt"
   ]
  },
  {
   "cell_type": "code",
   "execution_count": 80,
   "id": "f6396ac7",
   "metadata": {},
   "outputs": [
    {
     "data": {
      "text/plain": [
       "'List 3 countries that speak quechua and their capitals.\\nReturn a JSON object.'"
      ]
     },
     "execution_count": 80,
     "metadata": {},
     "output_type": "execute_result"
    }
   ],
   "source": [
    "final_prompt = prompt.format(country=\"quechua\")\n",
    "final_prompt"
   ]
  },
  {
   "cell_type": "code",
   "execution_count": 81,
   "id": "b3d0fea3",
   "metadata": {},
   "outputs": [],
   "source": [
    "llm = OpenAI(temperature=1)\n"
   ]
  },
  {
   "cell_type": "code",
   "execution_count": 82,
   "id": "2922f76b",
   "metadata": {},
   "outputs": [],
   "source": [
    "output = llm.invoke(input=final_prompt)"
   ]
  },
  {
   "cell_type": "code",
   "execution_count": 83,
   "id": "e32e943e",
   "metadata": {},
   "outputs": [
    {
     "data": {
      "text/plain": [
       "'\\n\\n{\\n    \"Bolivia\": \"Sucre\",\\n    \"Peru\": \"Lima\",\\n    \"Ecuador\": \"Quito\"\\n}'"
      ]
     },
     "execution_count": 83,
     "metadata": {},
     "output_type": "execute_result"
    }
   ],
   "source": [
    "output"
   ]
  },
  {
   "cell_type": "code",
   "execution_count": 84,
   "id": "9a7bc710",
   "metadata": {},
   "outputs": [
    {
     "name": "stdout",
     "output_type": "stream",
     "text": [
      "{'Bolivia': 'Sucre', 'Peru': 'Lima', 'Ecuador': 'Quito'}\n"
     ]
    }
   ],
   "source": [
    "elements = output_parser.parse(output)\n",
    "pprint.pp(elements)"
   ]
  },
  {
   "cell_type": "code",
   "execution_count": 85,
   "id": "33a0e79e",
   "metadata": {},
   "outputs": [
    {
     "data": {
      "text/plain": [
       "dict"
      ]
     },
     "execution_count": 85,
     "metadata": {},
     "output_type": "execute_result"
    }
   ],
   "source": [
    "type(elements)"
   ]
  }
 ],
 "metadata": {
  "kernelspec": {
   "display_name": "venv",
   "language": "python",
   "name": "python3"
  },
  "language_info": {
   "codemirror_mode": {
    "name": "ipython",
    "version": 3
   },
   "file_extension": ".py",
   "mimetype": "text/x-python",
   "name": "python",
   "nbconvert_exporter": "python",
   "pygments_lexer": "ipython3",
   "version": "3.12.2"
  }
 },
 "nbformat": 4,
 "nbformat_minor": 5
}
