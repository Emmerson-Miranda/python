{
 "cells": [
  {
   "cell_type": "code",
   "execution_count": 12,
   "id": "bc308ee9-99c8-4767-a46f-56428885154c",
   "metadata": {},
   "outputs": [],
   "source": [
    "from langchain_openai import ChatOpenAI\n",
    "from langchain.prompts import ChatPromptTemplate, FewShotChatMessagePromptTemplate"
   ]
  },
  {
   "cell_type": "code",
   "execution_count": 2,
   "id": "cebb2e59-8acd-4b29-b2d2-8dbff1ef80d2",
   "metadata": {},
   "outputs": [],
   "source": [
    "#import os\n",
    "#os.environ[\"OPENAI_API_KEY\"]=\"YOUR_OPENAI_API_KEY\""
   ]
  },
  {
   "cell_type": "code",
   "execution_count": 2,
   "id": "92bd5655-9c82-4761-bad7-9062bdfc0159",
   "metadata": {},
   "outputs": [],
   "source": [
    "examples = [\n",
    "    {\"input\": \"India\", \"output\": \"The capital is: New Delhi\"},\n",
    "    {\"input\": \"USA\", \"output\": \"The capital is: Washington, D.C.\"},\n",
    "    {\"input\": \"Japan\", \"output\": \"The capital is: Tokyo\"},\n",
    "    {\"input\": \"Brazil\", \"output\": \"The capital is: Brasília\"},\n",
    "]"
   ]
  },
  {
   "cell_type": "code",
   "execution_count": 8,
   "id": "6688c179",
   "metadata": {},
   "outputs": [],
   "source": [
    "example_prompt = ChatPromptTemplate.from_messages([\n",
    "    (\"human\", \"{input}\"),\n",
    "    (\"ai\", \"{output}\"),\n",
    "])"
   ]
  },
  {
   "cell_type": "code",
   "execution_count": 9,
   "id": "9699710e",
   "metadata": {},
   "outputs": [],
   "source": [
    "few_shot_prompt = FewShotChatMessagePromptTemplate(\n",
    "    example_prompt=example_prompt,\n",
    "    examples=examples\n",
    ")\n"
   ]
  },
  {
   "cell_type": "code",
   "execution_count": 11,
   "id": "1da3c8dd",
   "metadata": {},
   "outputs": [
    {
     "name": "stdout",
     "output_type": "stream",
     "text": [
      "Human: India\n",
      "AI: The capital is: New Delhi\n",
      "Human: USA\n",
      "AI: The capital is: Washington, D.C.\n",
      "Human: Japan\n",
      "AI: The capital is: Tokyo\n",
      "Human: Brazil\n",
      "AI: The capital is: Brasília\n"
     ]
    }
   ],
   "source": [
    "print(few_shot_prompt.format())"
   ]
  },
  {
   "cell_type": "code",
   "execution_count": 13,
   "id": "b9964ff0",
   "metadata": {},
   "outputs": [],
   "source": [
    "prompt_template = ChatPromptTemplate.from_messages([\n",
    "    (\"system\", \"You are a geography teacher.\"),\n",
    "    few_shot_prompt,\n",
    "    (\"human\", \"{input}\")\n",
    "])  "
   ]
  },
  {
   "cell_type": "code",
   "execution_count": 16,
   "id": "e4f9dbb1",
   "metadata": {},
   "outputs": [
    {
     "data": {
      "text/plain": [
       "ChatPromptTemplate(input_variables=['input'], input_types={}, partial_variables={}, messages=[SystemMessagePromptTemplate(prompt=PromptTemplate(input_variables=[], input_types={}, partial_variables={}, template='You are a geography teacher.'), additional_kwargs={}), FewShotChatMessagePromptTemplate(examples=[{'input': 'India', 'output': 'The capital is: New Delhi'}, {'input': 'USA', 'output': 'The capital is: Washington, D.C.'}, {'input': 'Japan', 'output': 'The capital is: Tokyo'}, {'input': 'Brazil', 'output': 'The capital is: Brasília'}], input_variables=[], input_types={}, partial_variables={}, example_prompt=ChatPromptTemplate(input_variables=['input', 'output'], input_types={}, partial_variables={}, messages=[HumanMessagePromptTemplate(prompt=PromptTemplate(input_variables=['input'], input_types={}, partial_variables={}, template='{input}'), additional_kwargs={}), AIMessagePromptTemplate(prompt=PromptTemplate(input_variables=['output'], input_types={}, partial_variables={}, template='{output}'), additional_kwargs={})])), HumanMessagePromptTemplate(prompt=PromptTemplate(input_variables=['input'], input_types={}, partial_variables={}, template='{input}'), additional_kwargs={})])"
      ]
     },
     "execution_count": 16,
     "metadata": {},
     "output_type": "execute_result"
    }
   ],
   "source": [
    "prompt_template"
   ]
  },
  {
   "cell_type": "code",
   "execution_count": 23,
   "id": "cd2bcd8a",
   "metadata": {},
   "outputs": [
    {
     "data": {
      "text/plain": [
       "[SystemMessage(content='You are a geography teacher.', additional_kwargs={}, response_metadata={}),\n",
       " HumanMessage(content='India', additional_kwargs={}, response_metadata={}),\n",
       " AIMessage(content='The capital is: New Delhi', additional_kwargs={}, response_metadata={}),\n",
       " HumanMessage(content='USA', additional_kwargs={}, response_metadata={}),\n",
       " AIMessage(content='The capital is: Washington, D.C.', additional_kwargs={}, response_metadata={}),\n",
       " HumanMessage(content='Japan', additional_kwargs={}, response_metadata={}),\n",
       " AIMessage(content='The capital is: Tokyo', additional_kwargs={}, response_metadata={}),\n",
       " HumanMessage(content='Brazil', additional_kwargs={}, response_metadata={}),\n",
       " AIMessage(content='The capital is: Brasília', additional_kwargs={}, response_metadata={}),\n",
       " HumanMessage(content='Peru', additional_kwargs={}, response_metadata={})]"
      ]
     },
     "execution_count": 23,
     "metadata": {},
     "output_type": "execute_result"
    }
   ],
   "source": [
    "prompt = prompt_template.format_messages(input=\"Peru\")\n",
    "prompt"
   ]
  },
  {
   "cell_type": "code",
   "execution_count": 20,
   "id": "80c05575",
   "metadata": {},
   "outputs": [],
   "source": [
    "llm = ChatOpenAI(model=\"gpt-3.5-turbo\", temperature=1)\n",
    "response = llm.invoke(prompt)"
   ]
  },
  {
   "cell_type": "code",
   "execution_count": 21,
   "id": "4b0271b6",
   "metadata": {},
   "outputs": [
    {
     "data": {
      "text/plain": [
       "'The capital is: Lima'"
      ]
     },
     "execution_count": 21,
     "metadata": {},
     "output_type": "execute_result"
    }
   ],
   "source": [
    "response.content"
   ]
  }
 ],
 "metadata": {
  "kernelspec": {
   "display_name": "venv",
   "language": "python",
   "name": "python3"
  },
  "language_info": {
   "codemirror_mode": {
    "name": "ipython",
    "version": 3
   },
   "file_extension": ".py",
   "mimetype": "text/x-python",
   "name": "python",
   "nbconvert_exporter": "python",
   "pygments_lexer": "ipython3",
   "version": "3.12.2"
  }
 },
 "nbformat": 4,
 "nbformat_minor": 5
}
