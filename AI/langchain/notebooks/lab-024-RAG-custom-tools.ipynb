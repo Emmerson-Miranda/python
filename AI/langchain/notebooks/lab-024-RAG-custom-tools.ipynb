{
 "cells": [
  {
   "cell_type": "code",
   "execution_count": null,
   "id": "2f211c49",
   "metadata": {},
   "outputs": [],
   "source": [
    "# https://notes.kodekloud.com/docs/LangChain/Using-Tools/Building-a-Custom-Tool\n",
    "from langchain.tools import tool\n",
    "from langchain_openai import ChatOpenAI\n",
    "from langchain import PromptTemplate\n",
    "from langchain_core.output_parsers import StrOutputParser\n",
    "\n",
    "# Tool to get flight status\n",
    "@tool\n",
    "def GetFlightStatus(flight_no: str) -> str:\n",
    "    \"\"\"Gets flight status and schedule\"\"\"\n",
    "    return (\n",
    "        f\"Flight {flight_no} departed at 5:20 PM. \"\n",
    "        \"It is on-time and expected to arrive at 8:10 PM at Gate B12.\"\n",
    "    )"
   ]
  },
  {
   "cell_type": "code",
   "execution_count": 5,
   "id": "6486b134",
   "metadata": {},
   "outputs": [
    {
     "name": "stdout",
     "output_type": "stream",
     "text": [
      "name.      : GetFlightStatus\n",
      "description: Gets flight status and schedule\n",
      "arguments  : {'flight_no': {'title': 'Flight No', 'type': 'string'}}\n"
     ]
    },
    {
     "data": {
      "text/plain": [
       "StructuredTool(name='GetFlightStatus', description='Gets flight status and schedule', args_schema=<class 'langchain_core.utils.pydantic.GetFlightStatus'>, func=<function GetFlightStatus at 0x10941f420>)"
      ]
     },
     "execution_count": 5,
     "metadata": {},
     "output_type": "execute_result"
    }
   ],
   "source": [
    "# Inspecting the tool\n",
    "print(f\"name.      : {GetFlightStatus.name}\")      \n",
    "print(f\"description: {GetFlightStatus.description}\")\n",
    "print(f\"arguments  : {GetFlightStatus.args}\")\n",
    "GetFlightStatus"
   ]
  },
  {
   "cell_type": "code",
   "execution_count": null,
   "id": "a5ac368a",
   "metadata": {},
   "outputs": [],
   "source": [
    "# Initialize chat model, prompt and output parser\n",
    "prompt = PromptTemplate.from_template(\n",
    "    \"Based on the context: {context}\\nAnswer the query: {query}\"\n",
    ")\n",
    "llm = ChatOpenAI()\n",
    "output_parser = StrOutputParser()"
   ]
  },
  {
   "cell_type": "code",
   "execution_count": null,
   "id": "337c68c2",
   "metadata": {},
   "outputs": [
    {
     "data": {
      "text/plain": [
       "'Flight EK524 departed at 5:20 PM. It is on-time and expected to arrive at 8:10 PM at Gate B12.'"
      ]
     },
     "execution_count": 11,
     "metadata": {},
     "output_type": "execute_result"
    }
   ],
   "source": [
    "# Getting flight using the custom tool\n",
    "flight = \"EK524\"\n",
    "context = GetFlightStatus.run(flight)\n",
    "context"
   ]
  },
  {
   "cell_type": "code",
   "execution_count": null,
   "id": "749fe2c0",
   "metadata": {},
   "outputs": [],
   "source": [
    "# Creating the chain\n",
    "chain = prompt | llm | output_parser"
   ]
  },
  {
   "cell_type": "code",
   "execution_count": 13,
   "id": "7a9b5614",
   "metadata": {},
   "outputs": [
    {
     "name": "stdout",
     "output_type": "stream",
     "text": [
      "The status of Flight EK524 is on-time and expected to arrive at 8:10 PM at Gate B12.\n",
      "The departure time for Flight EK524 is 5:20 PM.\n",
      "The arrival time for Flight EK524 is expected to be at 8:10 PM at Gate B12.\n",
      "Gate B12\n"
     ]
    }
   ],
   "source": [
    "# Invoking the chain with different queries\n",
    "print(chain.invoke({\"context\": context, \"query\": \"status\"}))         \n",
    "print(chain.invoke({\"context\": context, \"query\": \"departure time\"})) \n",
    "print(chain.invoke({\"context\": context, \"query\": \"arrival time\"}))   \n",
    "print(chain.invoke({\"context\": context, \"query\": \"gate\"})) "
   ]
  }
 ],
 "metadata": {
  "kernelspec": {
   "display_name": "venv",
   "language": "python",
   "name": "python3"
  },
  "language_info": {
   "codemirror_mode": {
    "name": "ipython",
    "version": 3
   },
   "file_extension": ".py",
   "mimetype": "text/x-python",
   "name": "python",
   "nbconvert_exporter": "python",
   "pygments_lexer": "ipython3",
   "version": "3.12.2"
  }
 },
 "nbformat": 4,
 "nbformat_minor": 5
}
