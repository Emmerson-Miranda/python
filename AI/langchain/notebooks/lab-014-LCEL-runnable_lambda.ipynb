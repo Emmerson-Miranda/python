{
 "cells": [
  {
   "cell_type": "code",
   "execution_count": 6,
   "id": "bc308ee9-99c8-4767-a46f-56428885154c",
   "metadata": {},
   "outputs": [],
   "source": [
    "from langchain_openai import ChatOpenAI\n",
    "from langchain.prompts import ChatPromptTemplate\n",
    "from langchain_core.output_parsers import StrOutputParser\n",
    "from langchain_core.runnables import RunnableLambda"
   ]
  },
  {
   "cell_type": "code",
   "execution_count": 7,
   "id": "cebb2e59-8acd-4b29-b2d2-8dbff1ef80d2",
   "metadata": {},
   "outputs": [],
   "source": [
    "#import os\n",
    "#os.environ[\"OPENAI_API_KEY\"]=\"YOUR_OPENAI_API_KEY\""
   ]
  },
  {
   "cell_type": "code",
   "execution_count": 8,
   "id": "ce9c503a",
   "metadata": {},
   "outputs": [],
   "source": [
    "prompt = ChatPromptTemplate.from_template(\"Give me a short description for a book about {topic}\")"
   ]
  },
  {
   "cell_type": "code",
   "execution_count": 9,
   "id": "1639965f",
   "metadata": {},
   "outputs": [],
   "source": [
    "llm = ChatOpenAI() \n",
    "output_parser = StrOutputParser()"
   ]
  },
  {
   "cell_type": "code",
   "execution_count": 10,
   "id": "8de5f127-de3e-4191-a3c6-0923fe03fd30",
   "metadata": {},
   "outputs": [
    {
     "data": {
      "text/plain": [
       "\"In a not-so-distant future, humanity has achieved remarkable technological advancements, but at what cost? This gripping science fiction novel explores the consequences of society's relentless pursuit of progress and the ethical dilemmas faced when playing god with science. Join our protagonist as they navigate a world where the line between human and machine blurs, unveiling chilling truths about the nature of humanity and the boundless potential of innovation.\""
      ]
     },
     "execution_count": 10,
     "metadata": {},
     "output_type": "execute_result"
    }
   ],
   "source": [
    "chain = prompt | llm | output_parser\n",
    "chain.invoke({\"topic\": \"Science Fiction\"}) "
   ]
  },
  {
   "cell_type": "code",
   "execution_count": null,
   "id": "706d6389",
   "metadata": {},
   "outputs": [],
   "source": [
    "def to_upper(text: str) -> str:\n",
    "    print(f\"to_upper_input_text='{text}'\")\n",
    "    return text.upper()\n",
    "\n",
    "def get_length(text: str) -> int:\n",
    "    print(f\"get_length_input_text='{text}'\")\n",
    "    return len(text)"
   ]
  },
  {
   "cell_type": "code",
   "execution_count": 12,
   "id": "de6ef2c7",
   "metadata": {},
   "outputs": [
    {
     "name": "stdout",
     "output_type": "stream",
     "text": [
      "input_text='\"IN A FUTURE WHERE HUMANITY HAS COLONIZED OTHER PLANETS, A GROUP OF REBELS EMBARKS ON A DARING MISSION TO UNCOVER THE TRUTH BEHIND A GOVERNMENT CONSPIRACY THAT THREATENS TO RESHAPE THE GALAXY AS THEY KNOW IT.\"'\n"
     ]
    },
    {
     "data": {
      "text/plain": [
       "209"
      ]
     },
     "execution_count": 12,
     "metadata": {},
     "output_type": "execute_result"
    }
   ],
   "source": [
    "chain_lambda = prompt | llm | output_parser | RunnableLambda(to_upper) | RunnableLambda(get_length)\n",
    "chain_lambda.invoke({\"topic\": \"Science Fiction\"}) "
   ]
  }
 ],
 "metadata": {
  "kernelspec": {
   "display_name": "venv",
   "language": "python",
   "name": "python3"
  },
  "language_info": {
   "codemirror_mode": {
    "name": "ipython",
    "version": 3
   },
   "file_extension": ".py",
   "mimetype": "text/x-python",
   "name": "python",
   "nbconvert_exporter": "python",
   "pygments_lexer": "ipython3",
   "version": "3.12.2"
  }
 },
 "nbformat": 4,
 "nbformat_minor": 5
}
