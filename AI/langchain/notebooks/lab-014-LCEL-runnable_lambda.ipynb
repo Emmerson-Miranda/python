{
 "cells": [
  {
   "cell_type": "code",
   "execution_count": 13,
   "id": "bc308ee9-99c8-4767-a46f-56428885154c",
   "metadata": {},
   "outputs": [],
   "source": [
    "from langchain_openai import ChatOpenAI\n",
    "from langchain.prompts import ChatPromptTemplate\n",
    "from langchain_core.output_parsers import StrOutputParser\n",
    "from langchain_core.runnables import RunnableLambda"
   ]
  },
  {
   "cell_type": "code",
   "execution_count": 14,
   "id": "cebb2e59-8acd-4b29-b2d2-8dbff1ef80d2",
   "metadata": {},
   "outputs": [],
   "source": [
    "#import os\n",
    "#os.environ[\"OPENAI_API_KEY\"]=\"YOUR_OPENAI_API_KEY\""
   ]
  },
  {
   "cell_type": "code",
   "execution_count": 15,
   "id": "ce9c503a",
   "metadata": {},
   "outputs": [],
   "source": [
    "prompt = ChatPromptTemplate.from_template(\"Give me a short description for a book about {topic}\")"
   ]
  },
  {
   "cell_type": "code",
   "execution_count": 16,
   "id": "1639965f",
   "metadata": {},
   "outputs": [],
   "source": [
    "llm = ChatOpenAI() \n",
    "output_parser = StrOutputParser()"
   ]
  },
  {
   "cell_type": "code",
   "execution_count": 17,
   "id": "8de5f127-de3e-4191-a3c6-0923fe03fd30",
   "metadata": {},
   "outputs": [
    {
     "data": {
      "text/plain": [
       "'\"In a future where technology reigns supreme, a group of rebel hackers must fight against a tyrannical government to preserve freedom and humanity. As they navigate through virtual reality and explore the secrets of the universe, they uncover shocking truths that challenge everything they thought they knew. Will they be able to save the world before it\\'s too late?\"'"
      ]
     },
     "execution_count": 17,
     "metadata": {},
     "output_type": "execute_result"
    }
   ],
   "source": [
    "chain = prompt | llm | output_parser\n",
    "chain.invoke({\"topic\": \"Science Fiction\"}) "
   ]
  },
  {
   "cell_type": "code",
   "execution_count": 18,
   "id": "706d6389",
   "metadata": {},
   "outputs": [],
   "source": [
    "def to_upper(text: str) -> str:\n",
    "    print(f\"to_upper_input_text='{text}'\")\n",
    "    return text.upper()\n",
    "\n",
    "def get_length(text: str) -> int:\n",
    "    print(f\"get_length_input_text='{text}'\")\n",
    "    return len(text)"
   ]
  },
  {
   "cell_type": "code",
   "execution_count": 19,
   "id": "de6ef2c7",
   "metadata": {},
   "outputs": [
    {
     "name": "stdout",
     "output_type": "stream",
     "text": [
      "to_upper_input_text='\"In a futuristic world where technology and humanity collide, a group of rebels must band together to overthrow a tyrannical government before it's too late. Unpredictable twists and mind-bending discoveries await in this thrilling sci-fi adventure.\"'\n",
      "get_length_input_text='\"IN A FUTURISTIC WORLD WHERE TECHNOLOGY AND HUMANITY COLLIDE, A GROUP OF REBELS MUST BAND TOGETHER TO OVERTHROW A TYRANNICAL GOVERNMENT BEFORE IT'S TOO LATE. UNPREDICTABLE TWISTS AND MIND-BENDING DISCOVERIES AWAIT IN THIS THRILLING SCI-FI ADVENTURE.\"'\n"
     ]
    },
    {
     "data": {
      "text/plain": [
       "250"
      ]
     },
     "execution_count": 19,
     "metadata": {},
     "output_type": "execute_result"
    }
   ],
   "source": [
    "chain_lambda = prompt | llm | output_parser | RunnableLambda(to_upper) | RunnableLambda(get_length)\n",
    "chain_lambda.invoke({\"topic\": \"Science Fiction\"}) "
   ]
  },
  {
   "cell_type": "code",
   "execution_count": 20,
   "id": "56364684",
   "metadata": {},
   "outputs": [
    {
     "name": "stdout",
     "output_type": "stream",
     "text": [
      "    +-------------+    \n",
      "    | PromptInput |    \n",
      "    +-------------+    \n",
      "           *           \n",
      "           *           \n",
      "           *           \n",
      "+--------------------+ \n",
      "| ChatPromptTemplate | \n",
      "+--------------------+ \n",
      "           *           \n",
      "           *           \n",
      "           *           \n",
      "    +------------+     \n",
      "    | ChatOpenAI |     \n",
      "    +------------+     \n",
      "           *           \n",
      "           *           \n",
      "           *           \n",
      "  +-----------------+  \n",
      "  | StrOutputParser |  \n",
      "  +-----------------+  \n",
      "           *           \n",
      "           *           \n",
      "           *           \n",
      "     +----------+      \n",
      "     | to_upper |      \n",
      "     +----------+      \n",
      "           *           \n",
      "           *           \n",
      "           *           \n",
      "    +------------+     \n",
      "    | get_length |     \n",
      "    +------------+     \n",
      "           *           \n",
      "           *           \n",
      "           *           \n",
      "+-------------------+  \n",
      "| get_length_output |  \n",
      "+-------------------+  \n"
     ]
    }
   ],
   "source": [
    "chain_lambda.get_graph().print_ascii()"
   ]
  }
 ],
 "metadata": {
  "kernelspec": {
   "display_name": "venv",
   "language": "python",
   "name": "python3"
  },
  "language_info": {
   "codemirror_mode": {
    "name": "ipython",
    "version": 3
   },
   "file_extension": ".py",
   "mimetype": "text/x-python",
   "name": "python",
   "nbconvert_exporter": "python",
   "pygments_lexer": "ipython3",
   "version": "3.12.2"
  }
 },
 "nbformat": 4,
 "nbformat_minor": 5
}
