{
 "cells": [
  {
   "cell_type": "code",
   "execution_count": 109,
   "id": "bc308ee9-99c8-4767-a46f-56428885154c",
   "metadata": {},
   "outputs": [],
   "source": [
    "from langchain_openai import ChatOpenAI\n",
    "from langchain.prompts import ChatPromptTemplate"
   ]
  },
  {
   "cell_type": "code",
   "execution_count": 110,
   "id": "cebb2e59-8acd-4b29-b2d2-8dbff1ef80d2",
   "metadata": {},
   "outputs": [],
   "source": [
    "#import os\n",
    "#os.environ[\"OPENAI_API_KEY\"]=\"YOUR_OPENAI_API_KEY\""
   ]
  },
  {
   "cell_type": "code",
   "execution_count": 111,
   "id": "92bd5655-9c82-4761-bad7-9062bdfc0159",
   "metadata": {},
   "outputs": [],
   "source": [
    "from langchain_core.callbacks import BaseCallbackHandler\n",
    "from langchain_core.outputs import LLMResult\n",
    "from langchain_core.messages import BaseMessage\n",
    "from typing import Any, Dict, List\n",
    "\n",
    "# https://python.langchain.com/docs/how_to/callbacks_runtime/\n",
    "class LoggingHandler(BaseCallbackHandler):\n",
    "    def on_chat_model_start(\n",
    "        self, serialized: Dict[str, Any], messages: List[List[BaseMessage]], **kwargs\n",
    "    ) -> None:\n",
    "        print(\"Chat model started\")\n",
    "\n",
    "    def on_llm_end(self, response: LLMResult, **kwargs) -> None:\n",
    "        print(f\"Chat model ended, response: {response}\")\n",
    "\n",
    "    def on_chain_start(\n",
    "        self, serialized: Dict[str, Any], inputs: Dict[str, Any], **kwargs\n",
    "    ) -> None:\n",
    "        print(f\"Chain {serialized} started\")\n",
    "\n",
    "    def on_chain_end(self, outputs: Dict[str, Any], **kwargs) -> None:\n",
    "        print(f\"Chain ended, outputs: {outputs}\")"
   ]
  },
  {
   "cell_type": "code",
   "execution_count": 112,
   "id": "ce9c503a",
   "metadata": {},
   "outputs": [],
   "source": [
    "prompt_template = ChatPromptTemplate.from_messages([\n",
    "    (\"system\", \"You are a {subject} teacher. You will answer the question in a step by step manner.\"),\n",
    "    (\"human\", \"Tell me about {content}\")\n",
    "])"
   ]
  },
  {
   "cell_type": "code",
   "execution_count": 113,
   "id": "8de5f127-de3e-4191-a3c6-0923fe03fd30",
   "metadata": {},
   "outputs": [
    {
     "name": "stdout",
     "output_type": "stream",
     "text": [
      "Chain None started\n",
      "Chain {'lc': 1, 'type': 'constructor', 'id': ['langchain', 'prompts', 'chat', 'ChatPromptTemplate'], 'kwargs': {'input_variables': ['content', 'subject'], 'messages': [{'lc': 1, 'type': 'constructor', 'id': ['langchain', 'prompts', 'chat', 'SystemMessagePromptTemplate'], 'kwargs': {'prompt': {'lc': 1, 'type': 'constructor', 'id': ['langchain', 'prompts', 'prompt', 'PromptTemplate'], 'kwargs': {'input_variables': ['subject'], 'template': 'You are a {subject} teacher. You will answer the question in a step by step manner.', 'template_format': 'f-string'}, 'name': 'PromptTemplate'}}}, {'lc': 1, 'type': 'constructor', 'id': ['langchain', 'prompts', 'chat', 'HumanMessagePromptTemplate'], 'kwargs': {'prompt': {'lc': 1, 'type': 'constructor', 'id': ['langchain', 'prompts', 'prompt', 'PromptTemplate'], 'kwargs': {'input_variables': ['content'], 'template': 'Tell me about {content}', 'template_format': 'f-string'}, 'name': 'PromptTemplate'}}}]}, 'name': 'ChatPromptTemplate'} started\n",
      "Chain ended, outputs: messages=[SystemMessage(content='You are a maths teacher. You will answer the question in a step by step manner.', additional_kwargs={}, response_metadata={}), HumanMessage(content='Tell me about What is 3+5*10-2/4?', additional_kwargs={}, response_metadata={})]\n",
      "Chat model started\n",
      "Chat model ended, response: generations=[[ChatGeneration(text='To solve the expression 3+5*10-2/4, we need to follow the order of operations, which is parentheses, exponents, multiplication and division (from left to right), addition and subtraction (from left to right).\\n\\n1. Perform multiplication and division first.\\n   5*10 = 50\\n   2/4 = 0.5\\n   \\n   The expression now becomes: 3 + 50 - 0.5\\n   \\n2. Perform addition and subtraction.\\n   3 + 50 = 53\\n   53 - 0.5 = 52.5\\n\\nTherefore, 3+5*10-2/4 equals 52.5.', generation_info={'finish_reason': 'stop', 'logprobs': None}, message=AIMessage(content='To solve the expression 3+5*10-2/4, we need to follow the order of operations, which is parentheses, exponents, multiplication and division (from left to right), addition and subtraction (from left to right).\\n\\n1. Perform multiplication and division first.\\n   5*10 = 50\\n   2/4 = 0.5\\n   \\n   The expression now becomes: 3 + 50 - 0.5\\n   \\n2. Perform addition and subtraction.\\n   3 + 50 = 53\\n   53 - 0.5 = 52.5\\n\\nTherefore, 3+5*10-2/4 equals 52.5.', additional_kwargs={'refusal': None}, response_metadata={'token_usage': {'completion_tokens': 143, 'prompt_tokens': 45, 'total_tokens': 188, 'completion_tokens_details': {'accepted_prediction_tokens': 0, 'audio_tokens': 0, 'reasoning_tokens': 0, 'rejected_prediction_tokens': 0}, 'prompt_tokens_details': {'audio_tokens': 0, 'cached_tokens': 0}}, 'model_name': 'gpt-3.5-turbo-0125', 'system_fingerprint': None, 'id': 'chatcmpl-C8xFYwSp4wfsmegaPz4gvkfVVAsZg', 'service_tier': 'default', 'finish_reason': 'stop', 'logprobs': None}, id='run--4ab81d6f-ad98-4159-9df0-c6505afcd21d-0', usage_metadata={'input_tokens': 45, 'output_tokens': 143, 'total_tokens': 188, 'input_token_details': {'audio': 0, 'cache_read': 0}, 'output_token_details': {'audio': 0, 'reasoning': 0}}))]] llm_output={'token_usage': {'completion_tokens': 143, 'prompt_tokens': 45, 'total_tokens': 188, 'completion_tokens_details': {'accepted_prediction_tokens': 0, 'audio_tokens': 0, 'reasoning_tokens': 0, 'rejected_prediction_tokens': 0}, 'prompt_tokens_details': {'audio_tokens': 0, 'cached_tokens': 0}}, 'model_name': 'gpt-3.5-turbo-0125', 'system_fingerprint': None, 'id': 'chatcmpl-C8xFYwSp4wfsmegaPz4gvkfVVAsZg', 'service_tier': 'default'} run=None type='LLMResult'\n",
      "Chain ended, outputs: content='To solve the expression 3+5*10-2/4, we need to follow the order of operations, which is parentheses, exponents, multiplication and division (from left to right), addition and subtraction (from left to right).\\n\\n1. Perform multiplication and division first.\\n   5*10 = 50\\n   2/4 = 0.5\\n   \\n   The expression now becomes: 3 + 50 - 0.5\\n   \\n2. Perform addition and subtraction.\\n   3 + 50 = 53\\n   53 - 0.5 = 52.5\\n\\nTherefore, 3+5*10-2/4 equals 52.5.' additional_kwargs={'refusal': None} response_metadata={'token_usage': {'completion_tokens': 143, 'prompt_tokens': 45, 'total_tokens': 188, 'completion_tokens_details': {'accepted_prediction_tokens': 0, 'audio_tokens': 0, 'reasoning_tokens': 0, 'rejected_prediction_tokens': 0}, 'prompt_tokens_details': {'audio_tokens': 0, 'cached_tokens': 0}}, 'model_name': 'gpt-3.5-turbo-0125', 'system_fingerprint': None, 'id': 'chatcmpl-C8xFYwSp4wfsmegaPz4gvkfVVAsZg', 'service_tier': 'default', 'finish_reason': 'stop', 'logprobs': None} id='run--4ab81d6f-ad98-4159-9df0-c6505afcd21d-0' usage_metadata={'input_tokens': 45, 'output_tokens': 143, 'total_tokens': 188, 'input_token_details': {'audio': 0, 'cache_read': 0}, 'output_token_details': {'audio': 0, 'reasoning': 0}}\n"
     ]
    }
   ],
   "source": [
    "llm = ChatOpenAI() \n",
    "chain = prompt_template | llm\n",
    "callbacks = [LoggingHandler()]\n",
    "response = chain.invoke({\"subject\": \"maths\", \"content\": \"What is 3+5*10-2/4?\"}, config={\"callbacks\": callbacks})"
   ]
  },
  {
   "cell_type": "code",
   "execution_count": 114,
   "id": "69572339",
   "metadata": {},
   "outputs": [
    {
     "data": {
      "text/plain": [
       "langchain_core.messages.ai.AIMessage"
      ]
     },
     "execution_count": 114,
     "metadata": {},
     "output_type": "execute_result"
    }
   ],
   "source": [
    "type(response)"
   ]
  },
  {
   "cell_type": "code",
   "execution_count": 115,
   "id": "a5684b9a",
   "metadata": {},
   "outputs": [
    {
     "name": "stdout",
     "output_type": "stream",
     "text": [
      "To solve the expression 3+5*10-2/4, we need to follow the order of operations, which is parentheses, exponents, multiplication and division (from left to right), addition and subtraction (from left to right).\n",
      "\n",
      "1. Perform multiplication and division first.\n",
      "   5*10 = 50\n",
      "   2/4 = 0.5\n",
      "   \n",
      "   The expression now becomes: 3 + 50 - 0.5\n",
      "   \n",
      "2. Perform addition and subtraction.\n",
      "   3 + 50 = 53\n",
      "   53 - 0.5 = 52.5\n",
      "\n",
      "Therefore, 3+5*10-2/4 equals 52.5.\n"
     ]
    }
   ],
   "source": [
    "print(response.content)"
   ]
  }
 ],
 "metadata": {
  "kernelspec": {
   "display_name": "venv",
   "language": "python",
   "name": "python3"
  },
  "language_info": {
   "codemirror_mode": {
    "name": "ipython",
    "version": 3
   },
   "file_extension": ".py",
   "mimetype": "text/x-python",
   "name": "python",
   "nbconvert_exporter": "python",
   "pygments_lexer": "ipython3",
   "version": "3.12.2"
  }
 },
 "nbformat": 4,
 "nbformat_minor": 5
}
