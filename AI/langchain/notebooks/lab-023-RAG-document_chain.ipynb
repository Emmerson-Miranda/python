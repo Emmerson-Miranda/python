{
 "cells": [
  {
   "cell_type": "code",
   "execution_count": 1,
   "id": "2f211c49",
   "metadata": {},
   "outputs": [
    {
     "name": "stderr",
     "output_type": "stream",
     "text": [
      "USER_AGENT environment variable not set, consider setting it to identify your requests.\n"
     ]
    }
   ],
   "source": [
    "# https://notes.kodekloud.com/docs/LangChain/Implementing-Chains/Using-Document-Chain\n",
    "from langchain_openai import ChatOpenAI\n",
    "from langchain_core.prompts import ChatPromptTemplate\n",
    "from langchain_community.document_loaders import WebBaseLoader\n",
    "from langchain.chains.combine_documents import create_stuff_documents_chain"
   ]
  },
  {
   "cell_type": "code",
   "execution_count": 2,
   "id": "641763c1",
   "metadata": {},
   "outputs": [],
   "source": [
    "import getpass\n",
    "import os\n",
    "\n",
    "if not os.environ.get(\"OPENAI_API_KEY\"):\n",
    "  os.environ[\"OPENAI_API_KEY\"] = getpass.getpass(\"Enter API key for OpenAI: \")"
   ]
  },
  {
   "cell_type": "code",
   "execution_count": 7,
   "id": "5c1a460f",
   "metadata": {},
   "outputs": [],
   "source": [
    "URL1 = \"https://techcrunch.com/2024/02/27/microsoft-made-a-16-million-investment-in-mistral-ai/\"\n",
    "URL2 = \"https://techcrunch.com/2024/03/28/ai21-labs-new-text-generating-ai-model-is-more-efficient-than-most/\"\n",
    "\n",
    "\n",
    "loader = WebBaseLoader([URL1, URL2])\n",
    "data = loader.load()\n"
   ]
  },
  {
   "cell_type": "code",
   "execution_count": 4,
   "id": "db0aea7d",
   "metadata": {},
   "outputs": [],
   "source": [
    "prompt = ChatPromptTemplate.from_messages([\n",
    "    (\"system\", \"Identify the models launched by Mistral AI and AI21 Labs:\\n\\n{context}\")\n",
    "])"
   ]
  },
  {
   "cell_type": "code",
   "execution_count": 5,
   "id": "ecbc6997",
   "metadata": {},
   "outputs": [],
   "source": [
    "llm = ChatOpenAI(model=\"gpt-3.5-turbo\")\n",
    "chain = create_stuff_documents_chain(llm, prompt)"
   ]
  },
  {
   "cell_type": "code",
   "execution_count": 6,
   "id": "9ab8365d",
   "metadata": {},
   "outputs": [
    {
     "name": "stdout",
     "output_type": "stream",
     "text": [
      "Models launched by Mistral AI and AI21 Labs are:\n",
      "\n",
      "1. Mistral Large: Mistral AI's flagship large language model designed to rival top-tier models like GPT-4.\n",
      "2. Jamba: AI21 Labs' new text-generating and -analyzing model that can handle up to 140,000 tokens and utilizes a combination of transformers and state space models.\n"
     ]
    }
   ],
   "source": [
    "result = chain.invoke({\"context\": data})\n",
    "print(result)"
   ]
  }
 ],
 "metadata": {
  "kernelspec": {
   "display_name": "venv",
   "language": "python",
   "name": "python3"
  },
  "language_info": {
   "codemirror_mode": {
    "name": "ipython",
    "version": 3
   },
   "file_extension": ".py",
   "mimetype": "text/x-python",
   "name": "python",
   "nbconvert_exporter": "python",
   "pygments_lexer": "ipython3",
   "version": "3.12.2"
  }
 },
 "nbformat": 4,
 "nbformat_minor": 5
}
