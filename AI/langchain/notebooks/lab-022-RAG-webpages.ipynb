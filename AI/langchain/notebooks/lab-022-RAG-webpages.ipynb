{
 "cells": [
  {
   "cell_type": "code",
   "execution_count": 35,
   "id": "2f211c49",
   "metadata": {},
   "outputs": [],
   "source": [
    "# https://python.langchain.com/docs/integrations/document_loaders/web_base/\n",
    "from langchain_community.document_loaders import WebBaseLoader\n",
    "from langchain_text_splitters.character import RecursiveCharacterTextSplitter\n",
    "\n",
    "from langchain_openai import OpenAIEmbeddings\n",
    "from langchain_core.vectorstores import InMemoryVectorStore\n",
    "\n",
    "from langchain_openai import ChatOpenAI\n",
    "from langchain.prompts import PromptTemplate\n",
    "from langchain_core.output_parsers import StrOutputParser\n",
    "from langchain_core.runnables import RunnablePassthrough"
   ]
  },
  {
   "cell_type": "code",
   "execution_count": 36,
   "id": "641763c1",
   "metadata": {},
   "outputs": [],
   "source": [
    "import getpass\n",
    "import os\n",
    "\n",
    "if not os.environ.get(\"OPENAI_API_KEY\"):\n",
    "  os.environ[\"OPENAI_API_KEY\"] = getpass.getpass(\"Enter API key for OpenAI: \")"
   ]
  },
  {
   "cell_type": "code",
   "execution_count": 37,
   "id": "5c1a460f",
   "metadata": {},
   "outputs": [],
   "source": [
    "loader = WebBaseLoader(\"https://raw.githubusercontent.com/Emmerson-Miranda/prompts/refs/heads/main/user_stories/user_stories_generated.md\")\n",
    "pages = loader.load_and_split()"
   ]
  },
  {
   "cell_type": "code",
   "execution_count": 38,
   "id": "db0aea7d",
   "metadata": {},
   "outputs": [],
   "source": [
    "text_splitter = RecursiveCharacterTextSplitter(chunk_size=400, chunk_overlap=50)\n",
    "\n",
    "chunks = text_splitter.split_documents(pages)"
   ]
  },
  {
   "cell_type": "code",
   "execution_count": 40,
   "id": "51ee8f4e",
   "metadata": {},
   "outputs": [],
   "source": [
    "embeddings = OpenAIEmbeddings(model=\"text-embedding-3-large\")"
   ]
  },
  {
   "cell_type": "code",
   "execution_count": 41,
   "id": "2484638a",
   "metadata": {},
   "outputs": [],
   "source": [
    "vector_store = InMemoryVectorStore.from_documents(chunks, embeddings)\n",
    "retriever = vector_store.as_retriever()"
   ]
  },
  {
   "cell_type": "code",
   "execution_count": 42,
   "id": "6824f981",
   "metadata": {},
   "outputs": [],
   "source": [
    "def format_docs(docs):\n",
    "    return \"\\n\\n\".join(doc.page_content for doc in docs)"
   ]
  },
  {
   "cell_type": "code",
   "execution_count": 43,
   "id": "395e10b9",
   "metadata": {},
   "outputs": [],
   "source": [
    "llm = ChatOpenAI(model=\"gpt-3.5-turbo\", temperature=0)"
   ]
  },
  {
   "cell_type": "code",
   "execution_count": 44,
   "id": "038a69b7",
   "metadata": {},
   "outputs": [],
   "source": [
    "template = \"\"\"You are a helpful AI assistant. \n",
    "Be factual in your response.\n",
    "Respond the folowing question: {question} only from below context: {context}.\n",
    "If you don't know the answer, just say that you don't know, don't try to make up an answer.\"\"\"\n",
    "\n",
    "prompt = PromptTemplate.from_template(template)\n",
    "\n",
    "chain = (\n",
    "  {\"context\": retriever | format_docs, \"question\": RunnablePassthrough()}\n",
    "  | prompt  | llm | StrOutputParser()\n",
    ")"
   ]
  },
  {
   "cell_type": "code",
   "execution_count": 45,
   "id": "587b2688",
   "metadata": {},
   "outputs": [
    {
     "data": {
      "text/plain": [
       "'The first user story is \"User Authentication\" which states: As a Google user, I want to log in using my Google account, so that my identity is authenticated securely and my progress can be tracked.'"
      ]
     },
     "execution_count": 45,
     "metadata": {},
     "output_type": "execute_result"
    }
   ],
   "source": [
    "chain.invoke( \"What is the first user story?\")"
   ]
  },
  {
   "cell_type": "code",
   "execution_count": 46,
   "id": "926a1039",
   "metadata": {},
   "outputs": [
    {
     "data": {
      "text/plain": [
       "'To login, you can use your Google account credentials.'"
      ]
     },
     "execution_count": 46,
     "metadata": {},
     "output_type": "execute_result"
    }
   ],
   "source": [
    "chain.invoke( \"Which credentials I have to use to login?\")"
   ]
  },
  {
   "cell_type": "code",
   "execution_count": 51,
   "id": "c84cfd36",
   "metadata": {},
   "outputs": [
    {
     "data": {
      "text/plain": [
       "'Yes, people with disabilities can play the game as long as the application meets WCAG 2.2 Level A compliance for accessibility.'"
      ]
     },
     "execution_count": 51,
     "metadata": {},
     "output_type": "execute_result"
    }
   ],
   "source": [
    "chain.invoke( \"people with disabilities can play the game?\")"
   ]
  },
  {
   "cell_type": "code",
   "execution_count": 52,
   "id": "03a656d4",
   "metadata": {},
   "outputs": [
    {
     "data": {
      "text/plain": [
       "'The document contains high-level user stories for the Tic-Tac-Toe Web Application project, including requirements for localization, accessibility, deployment to AWS, and privacy disclosure. These user stories are structured in the Cucumber format and adhere to SCRUM guidelines.'"
      ]
     },
     "execution_count": 52,
     "metadata": {},
     "output_type": "execute_result"
    }
   ],
   "source": [
    "chain.invoke( \"summarize the document\")"
   ]
  }
 ],
 "metadata": {
  "kernelspec": {
   "display_name": "venv",
   "language": "python",
   "name": "python3"
  },
  "language_info": {
   "codemirror_mode": {
    "name": "ipython",
    "version": 3
   },
   "file_extension": ".py",
   "mimetype": "text/x-python",
   "name": "python",
   "nbconvert_exporter": "python",
   "pygments_lexer": "ipython3",
   "version": "3.12.2"
  }
 },
 "nbformat": 4,
 "nbformat_minor": 5
}
