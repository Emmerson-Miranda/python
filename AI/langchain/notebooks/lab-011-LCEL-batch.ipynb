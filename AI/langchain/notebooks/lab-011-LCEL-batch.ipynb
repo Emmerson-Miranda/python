{
 "cells": [
  {
   "cell_type": "code",
   "execution_count": 1,
   "id": "96b36854",
   "metadata": {},
   "outputs": [],
   "source": [
    "from langchain_openai import ChatOpenAI\n",
    "from langchain_core.prompts import ChatPromptTemplate\n",
    "from langchain_core.output_parsers import StrOutputParser"
   ]
  },
  {
   "cell_type": "code",
   "execution_count": 2,
   "id": "0e53651e",
   "metadata": {},
   "outputs": [],
   "source": [
    "prompt = ChatPromptTemplate.from_template(\"\"\"You are a helpful teacher of geography. Answer following question: {question} \"\"\") "
   ]
  },
  {
   "cell_type": "code",
   "execution_count": 3,
   "id": "b2a67f03",
   "metadata": {},
   "outputs": [],
   "source": [
    "llm = ChatOpenAI()\n",
    "output_parser = StrOutputParser()"
   ]
  },
  {
   "cell_type": "code",
   "execution_count": 4,
   "id": "7e457c70",
   "metadata": {},
   "outputs": [],
   "source": [
    "chain = prompt | llm | output_parser"
   ]
  },
  {
   "cell_type": "code",
   "execution_count": 8,
   "id": "1eb77f2b",
   "metadata": {},
   "outputs": [],
   "source": [
    "questions = [\n",
    "    {\"question\": \"What is a country that has a flag with red and yellow?\"},\n",
    "    {\"question\": \"What is a country that has a flag with red, white and blue?\"},\n",
    "    {\"question\": \"What is a country that has a flag with green, white and orange?\"}\n",
    "]"
   ]
  },
  {
   "cell_type": "code",
   "execution_count": 9,
   "id": "5a0347d2",
   "metadata": {},
   "outputs": [],
   "source": [
    "responses = chain.batch(questions)"
   ]
  },
  {
   "cell_type": "code",
   "execution_count": 11,
   "id": "e41c3289",
   "metadata": {},
   "outputs": [
    {
     "data": {
      "text/plain": [
       "['Spain is a country that has a flag with red and yellow.',\n",
       " 'One example of a country with a flag that features red, white, and blue is the United States of America.',\n",
       " 'One country that has a flag with green, white, and orange is Ireland. The flag of Ireland, also known as the Irish tricolour, consists of three vertical stripes of green, white, and orange.']"
      ]
     },
     "execution_count": 11,
     "metadata": {},
     "output_type": "execute_result"
    }
   ],
   "source": [
    "responses"
   ]
  }
 ],
 "metadata": {
  "kernelspec": {
   "display_name": "venv",
   "language": "python",
   "name": "python3"
  },
  "language_info": {
   "codemirror_mode": {
    "name": "ipython",
    "version": 3
   },
   "file_extension": ".py",
   "mimetype": "text/x-python",
   "name": "python",
   "nbconvert_exporter": "python",
   "pygments_lexer": "ipython3",
   "version": "3.12.2"
  }
 },
 "nbformat": 4,
 "nbformat_minor": 5
}
