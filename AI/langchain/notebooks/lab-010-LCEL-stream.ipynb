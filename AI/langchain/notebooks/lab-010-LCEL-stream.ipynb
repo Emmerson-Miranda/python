{
 "cells": [
  {
   "cell_type": "code",
   "execution_count": 7,
   "id": "96b36854",
   "metadata": {},
   "outputs": [],
   "source": [
    "from langchain_openai import ChatOpenAI\n",
    "from langchain_core.prompts import ChatPromptTemplate\n",
    "from langchain_core.output_parsers import StrOutputParser"
   ]
  },
  {
   "cell_type": "code",
   "execution_count": 8,
   "id": "0e53651e",
   "metadata": {},
   "outputs": [],
   "source": [
    "prompt = ChatPromptTemplate.from_template(\"\"\"You are a helpful teacher of geography. Answer following question: {question} \"\"\") "
   ]
  },
  {
   "cell_type": "code",
   "execution_count": 9,
   "id": "b2a67f03",
   "metadata": {},
   "outputs": [],
   "source": [
    "llm = ChatOpenAI()\n",
    "output_parser = StrOutputParser()"
   ]
  },
  {
   "cell_type": "code",
   "execution_count": 10,
   "id": "7e457c70",
   "metadata": {},
   "outputs": [],
   "source": [
    "chain = prompt | llm | output_parser"
   ]
  },
  {
   "cell_type": "code",
   "execution_count": 11,
   "id": "5a0347d2",
   "metadata": {},
   "outputs": [
    {
     "name": "stdout",
     "output_type": "stream",
     "text": [
      "\n",
      "-One\n",
      "- example\n",
      "- of\n",
      "- a\n",
      "- country\n",
      "- that\n",
      "- has\n",
      "- a\n",
      "- flag\n",
      "- with\n",
      "- red\n",
      "- and\n",
      "- yellow\n",
      "- is\n",
      "- Spain\n",
      "-.\n",
      "-\n",
      "-"
     ]
    }
   ],
   "source": [
    "for chunk in chain.stream({\"question\": \"What is a country that has a flag with red and yellow?\"}):\n",
    "    print(chunk, end=\"\\n-\", flush=True)"
   ]
  }
 ],
 "metadata": {
  "kernelspec": {
   "display_name": "venv",
   "language": "python",
   "name": "python3"
  },
  "language_info": {
   "codemirror_mode": {
    "name": "ipython",
    "version": 3
   },
   "file_extension": ".py",
   "mimetype": "text/x-python",
   "name": "python",
   "nbconvert_exporter": "python",
   "pygments_lexer": "ipython3",
   "version": "3.12.2"
  }
 },
 "nbformat": 4,
 "nbformat_minor": 5
}
