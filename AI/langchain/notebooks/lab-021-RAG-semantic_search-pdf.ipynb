{
 "cells": [
  {
   "cell_type": "code",
   "execution_count": null,
   "id": "e34df0d5",
   "metadata": {},
   "outputs": [],
   "source": [
    "# https://python.langchain.com/docs/integrations/document_loaders/pypdfloader/\n",
    "# https://python.langchain.com/docs/integrations/document_loaders/#pdfs\n",
    "# https://python.langchain.com/api_reference/text_splitters/character/langchain_text_splitters.character.RecursiveCharacterTextSplitter.html#recursivecharactertextsplitter\n",
    "# https://python.langchain.com/docs/integrations/text_embedding/\n",
    "# https://python.langchain.com/docs/how_to/document_loader_pdf/\n",
    "\n",
    "from langchain_community.document_loaders import PyPDFLoader\n",
    "from langchain_openai import OpenAIEmbeddings\n",
    "from langchain_core.vectorstores import InMemoryVectorStore"
   ]
  },
  {
   "cell_type": "code",
   "execution_count": 4,
   "id": "b1b1235c",
   "metadata": {},
   "outputs": [],
   "source": [
    "import getpass\n",
    "import os\n",
    "\n",
    "if not os.environ.get(\"OPENAI_API_KEY\"):\n",
    "  os.environ[\"OPENAI_API_KEY\"] = getpass.getpass(\"Enter API key for OpenAI: \")"
   ]
  },
  {
   "cell_type": "code",
   "execution_count": 5,
   "id": "4f8ff43f",
   "metadata": {},
   "outputs": [],
   "source": [
    "loader = PyPDFLoader(\"./tictactoe_user_stories.pdf\")"
   ]
  },
  {
   "cell_type": "code",
   "execution_count": 6,
   "id": "65b05042",
   "metadata": {},
   "outputs": [],
   "source": [
    "pages = loader.load_and_split()"
   ]
  },
  {
   "cell_type": "code",
   "execution_count": 7,
   "id": "0a021a84",
   "metadata": {},
   "outputs": [],
   "source": [
    "embeddings = OpenAIEmbeddings(model=\"text-embedding-3-large\")"
   ]
  },
  {
   "cell_type": "code",
   "execution_count": 8,
   "id": "f1ec96f7",
   "metadata": {},
   "outputs": [],
   "source": [
    "\n",
    "vector_store = InMemoryVectorStore.from_documents(pages, embeddings)"
   ]
  },
  {
   "cell_type": "code",
   "execution_count": 10,
   "id": "5f5e838a",
   "metadata": {},
   "outputs": [
    {
     "name": "stdout",
     "output_type": "stream",
     "text": [
      "Page 3: As a user, I want a privacy disclaimer during login, so that I understand how my\n",
      "data will be handled by the application.\n",
      "prompts/user_stories/user_stories_generated.md at main · Emmerson-M... https://github.com/Emmerson-Miranda/prompts/blob/main/user_stories/...\n",
      "4 de 4 7/9/25, 23:44\n",
      "\n",
      "Page 2: As a user, I want my personal data (name and country) to be securely stored and\n",
      "transmitted, so that my privacy is protected.\n",
      "As the application owner, I want the system to scale to support future features\n",
      "(e.g., player-vs-player, random matchmaking), so that the application remains\n",
      "robust and adapt\n",
      "\n"
     ]
    }
   ],
   "source": [
    "docs = vector_store.similarity_search(\"What you do with my information?\", k=2)\n",
    "for doc in docs:\n",
    "    print(f\"Page {doc.metadata['page']}: {doc.page_content[:300]}\\n\")"
   ]
  }
 ],
 "metadata": {
  "kernelspec": {
   "display_name": "venv",
   "language": "python",
   "name": "python3"
  },
  "language_info": {
   "codemirror_mode": {
    "name": "ipython",
    "version": 3
   },
   "file_extension": ".py",
   "mimetype": "text/x-python",
   "name": "python",
   "nbconvert_exporter": "python",
   "pygments_lexer": "ipython3",
   "version": "3.12.2"
  }
 },
 "nbformat": 4,
 "nbformat_minor": 5
}
