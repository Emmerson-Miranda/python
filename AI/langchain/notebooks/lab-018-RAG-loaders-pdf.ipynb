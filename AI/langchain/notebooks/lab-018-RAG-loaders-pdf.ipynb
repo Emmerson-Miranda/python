{
 "cells": [
  {
   "cell_type": "code",
   "execution_count": 1,
   "id": "e34df0d5",
   "metadata": {},
   "outputs": [],
   "source": [
    "# https://python.langchain.com/docs/integrations/document_loaders/pypdfloader/\n",
    "from langchain_community.document_loaders import PyPDFLoader"
   ]
  },
  {
   "cell_type": "code",
   "execution_count": 2,
   "id": "4f8ff43f",
   "metadata": {},
   "outputs": [],
   "source": [
    "loader = PyPDFLoader(\"./tictactoe_user_stories.pdf\")"
   ]
  },
  {
   "cell_type": "code",
   "execution_count": 3,
   "id": "65b05042",
   "metadata": {},
   "outputs": [],
   "source": [
    "pages = loader.load_and_split()"
   ]
  },
  {
   "cell_type": "code",
   "execution_count": null,
   "id": "313bf2fa",
   "metadata": {},
   "outputs": [
    {
     "data": {
      "text/plain": [
       "4"
      ]
     },
     "execution_count": 4,
     "metadata": {},
     "output_type": "execute_result"
    }
   ],
   "source": [
    "len(pages)  # 4"
   ]
  },
  {
   "cell_type": "code",
   "execution_count": 5,
   "id": "f5fffb1c",
   "metadata": {},
   "outputs": [
    {
     "data": {
      "text/plain": [
       "Document(metadata={'producer': 'macOS Version 15.6.1 (Build 24G90) Quartz PDFContext', 'creator': 'Firefox', 'creationdate': \"D:20250907224411Z00'00'\", 'title': 'prompts/user_stories/user_stories_generated.md at main · Emmerson-Miranda/prompts', 'moddate': \"D:20250907224411Z00'00'\", 'source': './tictactoe_user_stories.pdf', 'total_pages': 4, 'page': 0, 'page_label': '1'}, page_content='Emmerson-Miranda adding user stories bb4bded \\xa0·\\xa0 5 months ago\\n62 lines (41 loc) · 3.67 KB\\nThis document contains high-level user stories derived from the requirements\\nanalysis for the Tic-Tac-Toe Web Application project. Each story follows the\\nCucumber format and adheres to SCRUM guidelines. These user stories represent\\nboth functional and non-functional requirements and are intended to provide a\\nstructured framework for software developers to implement the application\\nincrementally.\\nAs a Google user, I want to log in using my Google account, so that my identity is\\nauthenticated securely and my progress can be tracked.\\nEmmerson-Miranda prompts\\nCode Issues Pull requests Actions Projects Wiki Security\\nmain\\nprompts / user _ stories\\n/ user _ stories _ generated.md\\nHigh-Level User Stories for Tic-T ac-Toe\\nWeb Application\\nIntroduction\\nUser Stories\\n1. User Authentication\\n2. User Data Collection\\nPreview Code Blame Raw\\nprompts/user_stories/user_stories_generated.md at main · Emmerson-M... https://github.com/Emmerson-Miranda/prompts/blob/main/user_stories/...\\n1 de 4 7/9/25, 23:44')"
      ]
     },
     "execution_count": 5,
     "metadata": {},
     "output_type": "execute_result"
    }
   ],
   "source": [
    "pages[0]"
   ]
  },
  {
   "cell_type": "code",
   "execution_count": 7,
   "id": "52fedc11",
   "metadata": {},
   "outputs": [
    {
     "data": {
      "text/plain": [
       "Document(metadata={'producer': 'macOS Version 15.6.1 (Build 24G90) Quartz PDFContext', 'creator': 'Firefox', 'creationdate': \"D:20250907224411Z00'00'\", 'title': 'prompts/user_stories/user_stories_generated.md at main · Emmerson-Miranda/prompts', 'moddate': \"D:20250907224411Z00'00'\", 'source': './tictactoe_user_stories.pdf', 'total_pages': 4, 'page': 3, 'page_label': '4'}, page_content='As a user, I want a privacy disclaimer during login, so that I understand how my\\ndata will be handled by the application.\\nprompts/user_stories/user_stories_generated.md at main · Emmerson-M... https://github.com/Emmerson-Miranda/prompts/blob/main/user_stories/...\\n4 de 4 7/9/25, 23:44')"
      ]
     },
     "execution_count": 7,
     "metadata": {},
     "output_type": "execute_result"
    }
   ],
   "source": [
    "pages[3]"
   ]
  }
 ],
 "metadata": {
  "kernelspec": {
   "display_name": "venv",
   "language": "python",
   "name": "python3"
  },
  "language_info": {
   "codemirror_mode": {
    "name": "ipython",
    "version": 3
   },
   "file_extension": ".py",
   "mimetype": "text/x-python",
   "name": "python",
   "nbconvert_exporter": "python",
   "pygments_lexer": "ipython3",
   "version": "3.12.2"
  }
 },
 "nbformat": 4,
 "nbformat_minor": 5
}
