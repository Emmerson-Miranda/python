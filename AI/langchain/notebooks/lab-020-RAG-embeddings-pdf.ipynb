{
 "cells": [
  {
   "cell_type": "code",
   "execution_count": 25,
   "id": "e34df0d5",
   "metadata": {},
   "outputs": [],
   "source": [
    "# https://python.langchain.com/docs/integrations/document_loaders/pypdfloader/\n",
    "# https://python.langchain.com/api_reference/text_splitters/character/langchain_text_splitters.character.RecursiveCharacterTextSplitter.html#recursivecharactertextsplitter\n",
    "# https://python.langchain.com/docs/integrations/text_embedding/\n",
    "\n",
    "from langchain_community.document_loaders import PyPDFLoader\n",
    "from langchain_text_splitters.character import RecursiveCharacterTextSplitter\n",
    "from langchain_openai import OpenAIEmbeddings"
   ]
  },
  {
   "cell_type": "code",
   "execution_count": 26,
   "id": "b1b1235c",
   "metadata": {},
   "outputs": [],
   "source": [
    "import getpass\n",
    "import os\n",
    "\n",
    "if not os.environ.get(\"OPENAI_API_KEY\"):\n",
    "  os.environ[\"OPENAI_API_KEY\"] = getpass.getpass(\"Enter API key for OpenAI: \")"
   ]
  },
  {
   "cell_type": "code",
   "execution_count": 27,
   "id": "4f8ff43f",
   "metadata": {},
   "outputs": [],
   "source": [
    "loader = PyPDFLoader(\"./tictactoe_user_stories.pdf\")"
   ]
  },
  {
   "cell_type": "code",
   "execution_count": 28,
   "id": "65b05042",
   "metadata": {},
   "outputs": [],
   "source": [
    "pages = loader.load_and_split()"
   ]
  },
  {
   "cell_type": "code",
   "execution_count": 29,
   "id": "f5fffb1c",
   "metadata": {},
   "outputs": [
    {
     "data": {
      "text/plain": [
       "'Emmerson-Miranda adding user stories bb4bded \\xa0·\\xa0 5 months ago\\n62 lines (41 loc) · 3.67 KB\\nThis document contains high-level user stories derived from the requirements\\nanalysis for the Tic-Tac-Toe Web Application project. Each story follows the\\nCucumber format and adheres to SCRUM guidelines. These user stories represent\\nboth functional and non-functional requirements and are intended to provide a\\nstructured framework for software developers to implement the application\\nincrementally.\\nAs a Google user, I want to log in using my Google account, so that my identity is\\nauthenticated securely and my progress can be tracked.\\nEmmerson-Miranda prompts\\nCode Issues Pull requests Actions Projects Wiki Security\\nmain\\nprompts / user _ stories\\n/ user _ stories _ generated.md\\nHigh-Level User Stories for Tic-T ac-Toe\\nWeb Application\\nIntroduction\\nUser Stories\\n1. User Authentication\\n2. User Data Collection\\nPreview Code Blame Raw\\nprompts/user_stories/user_stories_generated.md at main · Emmerson-M... https://github.com/Emmerson-Miranda/prompts/blob/main/user_stories/...\\n1 de 4 7/9/25, 23:44'"
      ]
     },
     "execution_count": 29,
     "metadata": {},
     "output_type": "execute_result"
    }
   ],
   "source": [
    "pages[0].page_content"
   ]
  },
  {
   "cell_type": "code",
   "execution_count": 30,
   "id": "9a39ed18",
   "metadata": {},
   "outputs": [],
   "source": [
    "text_splitter = RecursiveCharacterTextSplitter(chunk_size=400, chunk_overlap=50)\n",
    "\n",
    "chunks = text_splitter.split_documents(pages)"
   ]
  },
  {
   "cell_type": "code",
   "execution_count": 31,
   "id": "0a021a84",
   "metadata": {},
   "outputs": [],
   "source": [
    "embeddings = OpenAIEmbeddings(model=\"text-embedding-3-large\")\n",
    "doc_embeddings = embeddings.embed_documents([chunk.page_content for chunk in chunks])"
   ]
  },
  {
   "cell_type": "code",
   "execution_count": 32,
   "id": "5f5e838a",
   "metadata": {},
   "outputs": [
    {
     "data": {
      "text/plain": [
       "13"
      ]
     },
     "execution_count": 32,
     "metadata": {},
     "output_type": "execute_result"
    }
   ],
   "source": [
    "len(doc_embeddings)"
   ]
  },
  {
   "cell_type": "code",
   "execution_count": 34,
   "id": "ecf1453b",
   "metadata": {},
   "outputs": [
    {
     "data": {
      "text/plain": [
       "[0.017087478190660477,\n",
       " 0.02316758967936039,\n",
       " -0.016313645988702774,\n",
       " 0.009025410749018192,\n",
       " 0.03213772550225258,\n",
       " 0.05303119495511055,\n",
       " 0.007750166580080986,\n",
       " 0.0373966284096241,\n",
       " -0.002621554071083665,\n",
       " 0.03967074677348137]"
      ]
     },
     "execution_count": 34,
     "metadata": {},
     "output_type": "execute_result"
    }
   ],
   "source": [
    "doc_embeddings[0][0:10]"
   ]
  }
 ],
 "metadata": {
  "kernelspec": {
   "display_name": "venv",
   "language": "python",
   "name": "python3"
  },
  "language_info": {
   "codemirror_mode": {
    "name": "ipython",
    "version": 3
   },
   "file_extension": ".py",
   "mimetype": "text/x-python",
   "name": "python",
   "nbconvert_exporter": "python",
   "pygments_lexer": "ipython3",
   "version": "3.12.2"
  }
 },
 "nbformat": 4,
 "nbformat_minor": 5
}
