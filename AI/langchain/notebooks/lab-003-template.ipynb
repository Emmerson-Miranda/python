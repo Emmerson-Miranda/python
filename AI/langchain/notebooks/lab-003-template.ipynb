{
 "cells": [
  {
   "cell_type": "code",
   "execution_count": 1,
   "id": "bc308ee9-99c8-4767-a46f-56428885154c",
   "metadata": {},
   "outputs": [],
   "source": [
    "from langchain_openai import ChatOpenAI\n",
    "from langchain.prompts import HumanMessagePromptTemplate, SystemMessagePromptTemplate, ChatPromptTemplate"
   ]
  },
  {
   "cell_type": "code",
   "execution_count": 2,
   "id": "cebb2e59-8acd-4b29-b2d2-8dbff1ef80d2",
   "metadata": {},
   "outputs": [],
   "source": [
    "#import os\n",
    "#os.environ[\"OPENAI_API_KEY\"]=\"YOUR_OPENAI_API_KEY\""
   ]
  },
  {
   "cell_type": "code",
   "execution_count": 3,
   "id": "92bd5655-9c82-4761-bad7-9062bdfc0159",
   "metadata": {},
   "outputs": [],
   "source": [
    "sysmsg=\"You are a {subject} teacher. You will answer the question in a step by step manner.\""
   ]
  },
  {
   "cell_type": "code",
   "execution_count": 4,
   "id": "c5802c10",
   "metadata": {},
   "outputs": [],
   "source": [
    "humanmsg = \"Tell me about {content}\""
   ]
  },
  {
   "cell_type": "code",
   "execution_count": 5,
   "id": "ce9c503a",
   "metadata": {},
   "outputs": [],
   "source": [
    "prompt_template = ChatPromptTemplate.from_messages([\n",
    "    SystemMessagePromptTemplate.from_template(sysmsg),\n",
    "    HumanMessagePromptTemplate.from_template(humanmsg)\n",
    "])"
   ]
  },
  {
   "cell_type": "code",
   "execution_count": 6,
   "id": "f44b1387",
   "metadata": {},
   "outputs": [
    {
     "data": {
      "text/plain": [
       "ChatPromptTemplate(input_variables=['content', 'subject'], input_types={}, partial_variables={}, messages=[SystemMessagePromptTemplate(prompt=PromptTemplate(input_variables=['subject'], input_types={}, partial_variables={}, template='You are a {subject} teacher. You will answer the question in a step by step manner.'), additional_kwargs={}), HumanMessagePromptTemplate(prompt=PromptTemplate(input_variables=['content'], input_types={}, partial_variables={}, template='Tell me about {content}'), additional_kwargs={})])"
      ]
     },
     "execution_count": 6,
     "metadata": {},
     "output_type": "execute_result"
    }
   ],
   "source": [
    "prompt_template"
   ]
  },
  {
   "cell_type": "code",
   "execution_count": 7,
   "id": "0e0c5a77-acb7-4629-9ecf-63065c1bec20",
   "metadata": {},
   "outputs": [],
   "source": [
    "prompt = prompt_template.format_prompt(subject=\"maths\", content=\"What is 2+2*10-2/4?\")"
   ]
  },
  {
   "cell_type": "code",
   "execution_count": 14,
   "id": "e1ea329a-0db0-4d49-ab16-67e464afab51",
   "metadata": {},
   "outputs": [
    {
     "data": {
      "text/plain": [
       "ChatPromptValue(messages=[SystemMessage(content='You are a maths teacher. You will answer the question in a step by step manner.', additional_kwargs={}, response_metadata={}), HumanMessage(content='Tell me about What is 2+2*10-2/4?', additional_kwargs={}, response_metadata={})])"
      ]
     },
     "execution_count": 14,
     "metadata": {},
     "output_type": "execute_result"
    }
   ],
   "source": [
    "prompt"
   ]
  },
  {
   "cell_type": "code",
   "execution_count": 9,
   "id": "8de5f127-de3e-4191-a3c6-0923fe03fd30",
   "metadata": {},
   "outputs": [],
   "source": [
    "llm = ChatOpenAI()\n",
    "response = llm.invoke(prompt)"
   ]
  },
  {
   "cell_type": "code",
   "execution_count": 11,
   "id": "69572339",
   "metadata": {},
   "outputs": [
    {
     "name": "stdout",
     "output_type": "stream",
     "text": [
      "To solve this arithmetic expression, you can follow the order of operations also known as BIDMAS/BODMAS (Brackets, Indices, Division and Multiplication, Addition and Subtraction).\n",
      "\n",
      "1. Calculate multiplication and division from left to right:\n",
      "2*10 = 20\n",
      "2/4 = 0.5\n",
      "\n",
      "The expression now becomes: 2 + 20 - 0.5\n",
      "\n",
      "2. Perform addition and subtraction from left to right:\n",
      "2 + 20 = 22\n",
      "22 - 0.5 = 21.5\n",
      "\n",
      "Therefore, the result of the expression 2 + 2*10 - 2/4 is 21.5.\n"
     ]
    }
   ],
   "source": [
    "print(response.content)"
   ]
  }
 ],
 "metadata": {
  "kernelspec": {
   "display_name": "venv",
   "language": "python",
   "name": "python3"
  },
  "language_info": {
   "codemirror_mode": {
    "name": "ipython",
    "version": 3
   },
   "file_extension": ".py",
   "mimetype": "text/x-python",
   "name": "python",
   "nbconvert_exporter": "python",
   "pygments_lexer": "ipython3",
   "version": "3.12.2"
  }
 },
 "nbformat": 4,
 "nbformat_minor": 5
}
